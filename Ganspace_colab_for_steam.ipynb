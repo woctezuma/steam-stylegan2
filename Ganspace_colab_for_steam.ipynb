{
  "nbformat": 4,
  "nbformat_minor": 0,
  "metadata": {
    "colab": {
      "name": "Copie de Ganspace.ipynb",
      "provenance": [],
      "collapsed_sections": []
    },
    "kernelspec": {
      "name": "python3",
      "display_name": "Python 3"
    },
    "accelerator": "GPU",
    "widgets": {
      "application/vnd.jupyter.widget-state+json": {
        "13e7570fb7d545b3bf0521e22456ac77": {
          "model_module": "@jupyter-widgets/controls",
          "model_name": "VBoxModel",
          "state": {
            "_view_name": "VBoxView",
            "_dom_classes": [],
            "_model_name": "VBoxModel",
            "_view_module": "@jupyter-widgets/controls",
            "_model_module_version": "1.5.0",
            "_view_count": null,
            "_view_module_version": "1.5.0",
            "box_style": "",
            "layout": "IPY_MODEL_4de9285356674dbd9490ce1336b569c3",
            "_model_module": "@jupyter-widgets/controls",
            "children": [
              "IPY_MODEL_c10f144a48ae4b25a392244a18e92189"
            ]
          }
        },
        "4de9285356674dbd9490ce1336b569c3": {
          "model_module": "@jupyter-widgets/base",
          "model_name": "LayoutModel",
          "state": {
            "_view_name": "LayoutView",
            "grid_template_rows": null,
            "right": null,
            "justify_content": null,
            "_view_module": "@jupyter-widgets/base",
            "overflow": null,
            "_model_module_version": "1.2.0",
            "_view_count": null,
            "flex_flow": null,
            "width": null,
            "min_width": null,
            "border": null,
            "align_items": null,
            "bottom": null,
            "_model_module": "@jupyter-widgets/base",
            "top": null,
            "grid_column": null,
            "overflow_y": null,
            "overflow_x": null,
            "grid_auto_flow": null,
            "grid_area": null,
            "grid_template_columns": null,
            "flex": null,
            "_model_name": "LayoutModel",
            "justify_items": null,
            "grid_row": null,
            "max_height": null,
            "align_content": null,
            "visibility": null,
            "align_self": null,
            "height": null,
            "min_height": null,
            "padding": null,
            "grid_auto_rows": null,
            "grid_gap": null,
            "max_width": null,
            "order": null,
            "_view_module_version": "1.2.0",
            "grid_template_areas": null,
            "object_position": null,
            "object_fit": null,
            "grid_auto_columns": null,
            "margin": null,
            "display": null,
            "left": null
          }
        },
        "c10f144a48ae4b25a392244a18e92189": {
          "model_module": "@jupyter-widgets/controls",
          "model_name": "HBoxModel",
          "state": {
            "_view_name": "HBoxView",
            "_dom_classes": [],
            "_model_name": "HBoxModel",
            "_view_module": "@jupyter-widgets/controls",
            "_model_module_version": "1.5.0",
            "_view_count": null,
            "_view_module_version": "1.5.0",
            "box_style": "",
            "layout": "IPY_MODEL_7123bc81841f42e386e1a4a9847c7e71",
            "_model_module": "@jupyter-widgets/controls",
            "children": [
              "IPY_MODEL_450a6ac7819d43318f6e9cb1c4644675",
              "IPY_MODEL_3c3e8a3088e94f28b7b0beb715f49227",
              "IPY_MODEL_3f21599b7edc4b608e95b06b247fc06a",
              "IPY_MODEL_f6590d0d510a450d9e4f6ed173fe134e",
              "IPY_MODEL_570b9ad51f894429a199ba5a26283f67",
              "IPY_MODEL_63762235dc744d368d4e586101f331b4",
              "IPY_MODEL_4bda6cf0c124482bb7acb817de2c5216"
            ]
          }
        },
        "7123bc81841f42e386e1a4a9847c7e71": {
          "model_module": "@jupyter-widgets/base",
          "model_name": "LayoutModel",
          "state": {
            "_view_name": "LayoutView",
            "grid_template_rows": null,
            "right": null,
            "justify_content": null,
            "_view_module": "@jupyter-widgets/base",
            "overflow": null,
            "_model_module_version": "1.2.0",
            "_view_count": null,
            "flex_flow": null,
            "width": null,
            "min_width": null,
            "border": null,
            "align_items": null,
            "bottom": null,
            "_model_module": "@jupyter-widgets/base",
            "top": null,
            "grid_column": null,
            "overflow_y": null,
            "overflow_x": null,
            "grid_auto_flow": null,
            "grid_area": null,
            "grid_template_columns": null,
            "flex": null,
            "_model_name": "LayoutModel",
            "justify_items": null,
            "grid_row": null,
            "max_height": null,
            "align_content": null,
            "visibility": null,
            "align_self": null,
            "height": null,
            "min_height": null,
            "padding": null,
            "grid_auto_rows": null,
            "grid_gap": null,
            "max_width": null,
            "order": null,
            "_view_module_version": "1.2.0",
            "grid_template_areas": null,
            "object_position": null,
            "object_fit": null,
            "grid_auto_columns": null,
            "margin": null,
            "display": null,
            "left": null
          }
        },
        "450a6ac7819d43318f6e9cb1c4644675": {
          "model_module": "@jupyter-widgets/controls",
          "model_name": "IntSliderModel",
          "state": {
            "_view_name": "IntSliderView",
            "style": "IPY_MODEL_dfeb6de7cb784f6686f91e1658f2382a",
            "_dom_classes": [],
            "description": "Seed: ",
            "step": 1,
            "_model_name": "IntSliderModel",
            "orientation": "horizontal",
            "max": 100000,
            "_view_module": "@jupyter-widgets/controls",
            "_model_module_version": "1.5.0",
            "value": 61071,
            "_view_count": null,
            "disabled": false,
            "_view_module_version": "1.5.0",
            "min": 0,
            "continuous_update": false,
            "readout_format": "d",
            "description_tooltip": null,
            "readout": true,
            "_model_module": "@jupyter-widgets/controls",
            "layout": "IPY_MODEL_0834a2e184a340aa9e267e7a8da8374d"
          }
        },
        "3c3e8a3088e94f28b7b0beb715f49227": {
          "model_module": "@jupyter-widgets/controls",
          "model_name": "FloatSliderModel",
          "state": {
            "_view_name": "FloatSliderView",
            "style": "IPY_MODEL_2df03c63ebf04a11bf68c2d546d8351a",
            "_dom_classes": [],
            "description": "Truncation: ",
            "step": 0.1,
            "_model_name": "FloatSliderModel",
            "orientation": "horizontal",
            "max": 2,
            "_view_module": "@jupyter-widgets/controls",
            "_model_module_version": "1.5.0",
            "value": 0.9,
            "_view_count": null,
            "disabled": false,
            "_view_module_version": "1.5.0",
            "min": 0,
            "continuous_update": false,
            "readout_format": ".2f",
            "description_tooltip": null,
            "readout": true,
            "_model_module": "@jupyter-widgets/controls",
            "layout": "IPY_MODEL_101ee9d5d9b44a579f2c3a6901d4ee1e"
          }
        },
        "3f21599b7edc4b608e95b06b247fc06a": {
          "model_module": "@jupyter-widgets/controls",
          "model_name": "FloatSliderModel",
          "state": {
            "_view_name": "FloatSliderView",
            "style": "IPY_MODEL_1df882ebf9d64279a86f32bf1256dd52",
            "_dom_classes": [],
            "description": "Distance: ",
            "step": 0.1,
            "_model_name": "FloatSliderModel",
            "orientation": "horizontal",
            "max": 10,
            "_view_module": "@jupyter-widgets/controls",
            "_model_module_version": "1.5.0",
            "value": 4.5,
            "_view_count": null,
            "disabled": false,
            "_view_module_version": "1.5.0",
            "min": -10,
            "continuous_update": false,
            "readout_format": ".2f",
            "description_tooltip": null,
            "readout": true,
            "_model_module": "@jupyter-widgets/controls",
            "layout": "IPY_MODEL_83d86d2f6a8943b09ba95eba5e72d6aa"
          }
        },
        "f6590d0d510a450d9e4f6ed173fe134e": {
          "model_module": "@jupyter-widgets/controls",
          "model_name": "FloatSliderModel",
          "state": {
            "_view_name": "FloatSliderView",
            "style": "IPY_MODEL_35b69dc02bf94536944b2c2a55e53acb",
            "_dom_classes": [],
            "description": "Scale: ",
            "step": 0.05,
            "_model_name": "FloatSliderModel",
            "orientation": "horizontal",
            "max": 10,
            "_view_module": "@jupyter-widgets/controls",
            "_model_module_version": "1.5.0",
            "value": 1,
            "_view_count": null,
            "disabled": false,
            "_view_module_version": "1.5.0",
            "min": 0,
            "continuous_update": false,
            "readout_format": ".2f",
            "description_tooltip": null,
            "readout": true,
            "_model_module": "@jupyter-widgets/controls",
            "layout": "IPY_MODEL_5e508cff556a4596a3ecdc86598346c6"
          }
        },
        "570b9ad51f894429a199ba5a26283f67": {
          "model_module": "@jupyter-widgets/controls",
          "model_name": "IntSliderModel",
          "state": {
            "_view_name": "IntSliderView",
            "style": "IPY_MODEL_e833c9c5d3d147cdbd1520d21f551179",
            "_dom_classes": [],
            "description": "start layer: ",
            "step": 1,
            "_model_name": "IntSliderModel",
            "orientation": "horizontal",
            "max": 6,
            "_view_module": "@jupyter-widgets/controls",
            "_model_module_version": "1.5.0",
            "value": 1,
            "_view_count": null,
            "disabled": false,
            "_view_module_version": "1.5.0",
            "min": 0,
            "continuous_update": false,
            "readout_format": "d",
            "description_tooltip": null,
            "readout": true,
            "_model_module": "@jupyter-widgets/controls",
            "layout": "IPY_MODEL_8d2d321fd6a5408da70b36bd1d840090"
          }
        },
        "63762235dc744d368d4e586101f331b4": {
          "model_module": "@jupyter-widgets/controls",
          "model_name": "IntSliderModel",
          "state": {
            "_view_name": "IntSliderView",
            "style": "IPY_MODEL_c601a377acd2424fba73fdedbc6aad57",
            "_dom_classes": [],
            "description": "end layer: ",
            "step": 1,
            "_model_name": "IntSliderModel",
            "orientation": "horizontal",
            "max": 14,
            "_view_module": "@jupyter-widgets/controls",
            "_model_module_version": "1.5.0",
            "value": 6,
            "_view_count": null,
            "disabled": false,
            "_view_module_version": "1.5.0",
            "min": 1,
            "continuous_update": false,
            "readout_format": "d",
            "description_tooltip": null,
            "readout": true,
            "_model_module": "@jupyter-widgets/controls",
            "layout": "IPY_MODEL_38f1c1c58b4440e2add901594ddc71fc"
          }
        },
        "4bda6cf0c124482bb7acb817de2c5216": {
          "model_module": "@jupyter-widgets/controls",
          "model_name": "TextModel",
          "state": {
            "_view_name": "TextView",
            "style": "IPY_MODEL_b7266bfbce124638b0326a0f5de1c427",
            "_dom_classes": [],
            "description": "Name component here",
            "_model_name": "TextModel",
            "placeholder": "​",
            "_view_module": "@jupyter-widgets/controls",
            "_model_module_version": "1.5.0",
            "value": "",
            "_view_count": null,
            "disabled": false,
            "_view_module_version": "1.5.0",
            "continuous_update": true,
            "description_tooltip": null,
            "_model_module": "@jupyter-widgets/controls",
            "layout": "IPY_MODEL_9beae981ec1547019cd7069e39040fd7"
          }
        },
        "dfeb6de7cb784f6686f91e1658f2382a": {
          "model_module": "@jupyter-widgets/controls",
          "model_name": "SliderStyleModel",
          "state": {
            "_view_name": "StyleView",
            "handle_color": null,
            "_model_name": "SliderStyleModel",
            "description_width": "",
            "_view_module": "@jupyter-widgets/base",
            "_model_module_version": "1.5.0",
            "_view_count": null,
            "_view_module_version": "1.2.0",
            "_model_module": "@jupyter-widgets/controls"
          }
        },
        "0834a2e184a340aa9e267e7a8da8374d": {
          "model_module": "@jupyter-widgets/base",
          "model_name": "LayoutModel",
          "state": {
            "_view_name": "LayoutView",
            "grid_template_rows": null,
            "right": null,
            "justify_content": null,
            "_view_module": "@jupyter-widgets/base",
            "overflow": null,
            "_model_module_version": "1.2.0",
            "_view_count": null,
            "flex_flow": null,
            "width": null,
            "min_width": null,
            "border": null,
            "align_items": null,
            "bottom": null,
            "_model_module": "@jupyter-widgets/base",
            "top": null,
            "grid_column": null,
            "overflow_y": null,
            "overflow_x": null,
            "grid_auto_flow": null,
            "grid_area": null,
            "grid_template_columns": null,
            "flex": null,
            "_model_name": "LayoutModel",
            "justify_items": null,
            "grid_row": null,
            "max_height": null,
            "align_content": null,
            "visibility": null,
            "align_self": null,
            "height": null,
            "min_height": null,
            "padding": null,
            "grid_auto_rows": null,
            "grid_gap": null,
            "max_width": null,
            "order": null,
            "_view_module_version": "1.2.0",
            "grid_template_areas": null,
            "object_position": null,
            "object_fit": null,
            "grid_auto_columns": null,
            "margin": null,
            "display": null,
            "left": null
          }
        },
        "2df03c63ebf04a11bf68c2d546d8351a": {
          "model_module": "@jupyter-widgets/controls",
          "model_name": "SliderStyleModel",
          "state": {
            "_view_name": "StyleView",
            "handle_color": null,
            "_model_name": "SliderStyleModel",
            "description_width": "",
            "_view_module": "@jupyter-widgets/base",
            "_model_module_version": "1.5.0",
            "_view_count": null,
            "_view_module_version": "1.2.0",
            "_model_module": "@jupyter-widgets/controls"
          }
        },
        "101ee9d5d9b44a579f2c3a6901d4ee1e": {
          "model_module": "@jupyter-widgets/base",
          "model_name": "LayoutModel",
          "state": {
            "_view_name": "LayoutView",
            "grid_template_rows": null,
            "right": null,
            "justify_content": null,
            "_view_module": "@jupyter-widgets/base",
            "overflow": null,
            "_model_module_version": "1.2.0",
            "_view_count": null,
            "flex_flow": null,
            "width": null,
            "min_width": null,
            "border": null,
            "align_items": null,
            "bottom": null,
            "_model_module": "@jupyter-widgets/base",
            "top": null,
            "grid_column": null,
            "overflow_y": null,
            "overflow_x": null,
            "grid_auto_flow": null,
            "grid_area": null,
            "grid_template_columns": null,
            "flex": null,
            "_model_name": "LayoutModel",
            "justify_items": null,
            "grid_row": null,
            "max_height": null,
            "align_content": null,
            "visibility": null,
            "align_self": null,
            "height": null,
            "min_height": null,
            "padding": null,
            "grid_auto_rows": null,
            "grid_gap": null,
            "max_width": null,
            "order": null,
            "_view_module_version": "1.2.0",
            "grid_template_areas": null,
            "object_position": null,
            "object_fit": null,
            "grid_auto_columns": null,
            "margin": null,
            "display": null,
            "left": null
          }
        },
        "1df882ebf9d64279a86f32bf1256dd52": {
          "model_module": "@jupyter-widgets/controls",
          "model_name": "SliderStyleModel",
          "state": {
            "_view_name": "StyleView",
            "handle_color": null,
            "_model_name": "SliderStyleModel",
            "description_width": "initial",
            "_view_module": "@jupyter-widgets/base",
            "_model_module_version": "1.5.0",
            "_view_count": null,
            "_view_module_version": "1.2.0",
            "_model_module": "@jupyter-widgets/controls"
          }
        },
        "83d86d2f6a8943b09ba95eba5e72d6aa": {
          "model_module": "@jupyter-widgets/base",
          "model_name": "LayoutModel",
          "state": {
            "_view_name": "LayoutView",
            "grid_template_rows": null,
            "right": null,
            "justify_content": null,
            "_view_module": "@jupyter-widgets/base",
            "overflow": null,
            "_model_module_version": "1.2.0",
            "_view_count": null,
            "flex_flow": null,
            "width": null,
            "min_width": null,
            "border": null,
            "align_items": null,
            "bottom": null,
            "_model_module": "@jupyter-widgets/base",
            "top": null,
            "grid_column": null,
            "overflow_y": null,
            "overflow_x": null,
            "grid_auto_flow": null,
            "grid_area": null,
            "grid_template_columns": null,
            "flex": null,
            "_model_name": "LayoutModel",
            "justify_items": null,
            "grid_row": null,
            "max_height": null,
            "align_content": null,
            "visibility": null,
            "align_self": null,
            "height": null,
            "min_height": null,
            "padding": null,
            "grid_auto_rows": null,
            "grid_gap": null,
            "max_width": null,
            "order": null,
            "_view_module_version": "1.2.0",
            "grid_template_areas": null,
            "object_position": null,
            "object_fit": null,
            "grid_auto_columns": null,
            "margin": null,
            "display": null,
            "left": null
          }
        },
        "35b69dc02bf94536944b2c2a55e53acb": {
          "model_module": "@jupyter-widgets/controls",
          "model_name": "SliderStyleModel",
          "state": {
            "_view_name": "StyleView",
            "handle_color": null,
            "_model_name": "SliderStyleModel",
            "description_width": "",
            "_view_module": "@jupyter-widgets/base",
            "_model_module_version": "1.5.0",
            "_view_count": null,
            "_view_module_version": "1.2.0",
            "_model_module": "@jupyter-widgets/controls"
          }
        },
        "5e508cff556a4596a3ecdc86598346c6": {
          "model_module": "@jupyter-widgets/base",
          "model_name": "LayoutModel",
          "state": {
            "_view_name": "LayoutView",
            "grid_template_rows": null,
            "right": null,
            "justify_content": null,
            "_view_module": "@jupyter-widgets/base",
            "overflow": null,
            "_model_module_version": "1.2.0",
            "_view_count": null,
            "flex_flow": null,
            "width": null,
            "min_width": null,
            "border": null,
            "align_items": null,
            "bottom": null,
            "_model_module": "@jupyter-widgets/base",
            "top": null,
            "grid_column": null,
            "overflow_y": null,
            "overflow_x": null,
            "grid_auto_flow": null,
            "grid_area": null,
            "grid_template_columns": null,
            "flex": null,
            "_model_name": "LayoutModel",
            "justify_items": null,
            "grid_row": null,
            "max_height": null,
            "align_content": null,
            "visibility": null,
            "align_self": null,
            "height": null,
            "min_height": null,
            "padding": null,
            "grid_auto_rows": null,
            "grid_gap": null,
            "max_width": null,
            "order": null,
            "_view_module_version": "1.2.0",
            "grid_template_areas": null,
            "object_position": null,
            "object_fit": null,
            "grid_auto_columns": null,
            "margin": null,
            "display": null,
            "left": null
          }
        },
        "e833c9c5d3d147cdbd1520d21f551179": {
          "model_module": "@jupyter-widgets/controls",
          "model_name": "SliderStyleModel",
          "state": {
            "_view_name": "StyleView",
            "handle_color": null,
            "_model_name": "SliderStyleModel",
            "description_width": "",
            "_view_module": "@jupyter-widgets/base",
            "_model_module_version": "1.5.0",
            "_view_count": null,
            "_view_module_version": "1.2.0",
            "_model_module": "@jupyter-widgets/controls"
          }
        },
        "8d2d321fd6a5408da70b36bd1d840090": {
          "model_module": "@jupyter-widgets/base",
          "model_name": "LayoutModel",
          "state": {
            "_view_name": "LayoutView",
            "grid_template_rows": null,
            "right": null,
            "justify_content": null,
            "_view_module": "@jupyter-widgets/base",
            "overflow": null,
            "_model_module_version": "1.2.0",
            "_view_count": null,
            "flex_flow": null,
            "width": null,
            "min_width": null,
            "border": null,
            "align_items": null,
            "bottom": null,
            "_model_module": "@jupyter-widgets/base",
            "top": null,
            "grid_column": null,
            "overflow_y": null,
            "overflow_x": null,
            "grid_auto_flow": null,
            "grid_area": null,
            "grid_template_columns": null,
            "flex": null,
            "_model_name": "LayoutModel",
            "justify_items": null,
            "grid_row": null,
            "max_height": null,
            "align_content": null,
            "visibility": null,
            "align_self": null,
            "height": null,
            "min_height": null,
            "padding": null,
            "grid_auto_rows": null,
            "grid_gap": null,
            "max_width": null,
            "order": null,
            "_view_module_version": "1.2.0",
            "grid_template_areas": null,
            "object_position": null,
            "object_fit": null,
            "grid_auto_columns": null,
            "margin": null,
            "display": null,
            "left": null
          }
        },
        "c601a377acd2424fba73fdedbc6aad57": {
          "model_module": "@jupyter-widgets/controls",
          "model_name": "SliderStyleModel",
          "state": {
            "_view_name": "StyleView",
            "handle_color": null,
            "_model_name": "SliderStyleModel",
            "description_width": "",
            "_view_module": "@jupyter-widgets/base",
            "_model_module_version": "1.5.0",
            "_view_count": null,
            "_view_module_version": "1.2.0",
            "_model_module": "@jupyter-widgets/controls"
          }
        },
        "38f1c1c58b4440e2add901594ddc71fc": {
          "model_module": "@jupyter-widgets/base",
          "model_name": "LayoutModel",
          "state": {
            "_view_name": "LayoutView",
            "grid_template_rows": null,
            "right": null,
            "justify_content": null,
            "_view_module": "@jupyter-widgets/base",
            "overflow": null,
            "_model_module_version": "1.2.0",
            "_view_count": null,
            "flex_flow": null,
            "width": null,
            "min_width": null,
            "border": null,
            "align_items": null,
            "bottom": null,
            "_model_module": "@jupyter-widgets/base",
            "top": null,
            "grid_column": null,
            "overflow_y": null,
            "overflow_x": null,
            "grid_auto_flow": null,
            "grid_area": null,
            "grid_template_columns": null,
            "flex": null,
            "_model_name": "LayoutModel",
            "justify_items": null,
            "grid_row": null,
            "max_height": null,
            "align_content": null,
            "visibility": null,
            "align_self": null,
            "height": null,
            "min_height": null,
            "padding": null,
            "grid_auto_rows": null,
            "grid_gap": null,
            "max_width": null,
            "order": null,
            "_view_module_version": "1.2.0",
            "grid_template_areas": null,
            "object_position": null,
            "object_fit": null,
            "grid_auto_columns": null,
            "margin": null,
            "display": null,
            "left": null
          }
        },
        "b7266bfbce124638b0326a0f5de1c427": {
          "model_module": "@jupyter-widgets/controls",
          "model_name": "DescriptionStyleModel",
          "state": {
            "_view_name": "StyleView",
            "_model_name": "DescriptionStyleModel",
            "description_width": "initial",
            "_view_module": "@jupyter-widgets/base",
            "_model_module_version": "1.5.0",
            "_view_count": null,
            "_view_module_version": "1.2.0",
            "_model_module": "@jupyter-widgets/controls"
          }
        },
        "9beae981ec1547019cd7069e39040fd7": {
          "model_module": "@jupyter-widgets/base",
          "model_name": "LayoutModel",
          "state": {
            "_view_name": "LayoutView",
            "grid_template_rows": null,
            "right": null,
            "justify_content": null,
            "_view_module": "@jupyter-widgets/base",
            "overflow": null,
            "_model_module_version": "1.2.0",
            "_view_count": null,
            "flex_flow": null,
            "width": null,
            "min_width": null,
            "border": null,
            "align_items": null,
            "bottom": null,
            "_model_module": "@jupyter-widgets/base",
            "top": null,
            "grid_column": null,
            "overflow_y": null,
            "overflow_x": null,
            "grid_auto_flow": null,
            "grid_area": null,
            "grid_template_columns": null,
            "flex": null,
            "_model_name": "LayoutModel",
            "justify_items": null,
            "grid_row": null,
            "max_height": null,
            "align_content": null,
            "visibility": null,
            "align_self": null,
            "height": null,
            "min_height": null,
            "padding": null,
            "grid_auto_rows": null,
            "grid_gap": null,
            "max_width": null,
            "order": null,
            "_view_module_version": "1.2.0",
            "grid_template_areas": null,
            "object_position": null,
            "object_fit": null,
            "grid_auto_columns": null,
            "margin": null,
            "display": null,
            "left": null
          }
        },
        "f6df1c13e7184bc59939e1f826cb1493": {
          "model_module": "@jupyter-widgets/output",
          "model_name": "OutputModel",
          "state": {
            "_view_name": "OutputView",
            "msg_id": "",
            "_dom_classes": [],
            "_model_name": "OutputModel",
            "outputs": [
              {
                "output_type": "display_data",
                "metadata": {
                  "tags": []
                },
                "image/png": "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\n",
                "text/plain": "<PIL.Image.Image image mode=RGB size=500x500 at 0x7F96160A8F98>"
              }
            ],
            "_view_module": "@jupyter-widgets/output",
            "_model_module_version": "1.0.0",
            "_view_count": null,
            "_view_module_version": "1.0.0",
            "layout": "IPY_MODEL_46fc6b81b7ce4b39ae2acd155f59da79",
            "_model_module": "@jupyter-widgets/output"
          }
        },
        "46fc6b81b7ce4b39ae2acd155f59da79": {
          "model_module": "@jupyter-widgets/base",
          "model_name": "LayoutModel",
          "state": {
            "_view_name": "LayoutView",
            "grid_template_rows": null,
            "right": null,
            "justify_content": null,
            "_view_module": "@jupyter-widgets/base",
            "overflow": null,
            "_model_module_version": "1.2.0",
            "_view_count": null,
            "flex_flow": null,
            "width": null,
            "min_width": null,
            "border": null,
            "align_items": null,
            "bottom": null,
            "_model_module": "@jupyter-widgets/base",
            "top": null,
            "grid_column": null,
            "overflow_y": null,
            "overflow_x": null,
            "grid_auto_flow": null,
            "grid_area": null,
            "grid_template_columns": null,
            "flex": null,
            "_model_name": "LayoutModel",
            "justify_items": null,
            "grid_row": null,
            "max_height": null,
            "align_content": null,
            "visibility": null,
            "align_self": null,
            "height": null,
            "min_height": null,
            "padding": null,
            "grid_auto_rows": null,
            "grid_gap": null,
            "max_width": null,
            "order": null,
            "_view_module_version": "1.2.0",
            "grid_template_areas": null,
            "object_position": null,
            "object_fit": null,
            "grid_auto_columns": null,
            "margin": null,
            "display": null,
            "left": null
          }
        }
      }
    }
  },
  "cells": [
    {
      "cell_type": "markdown",
      "metadata": {
        "id": "0sPTnpX6JcrU"
      },
      "source": [
        "#GANSPACE - Discovering Interpretable GAN Controls \n",
        "\n",
        "Using https://github.com/harskish/ganspace to find latent directions in a stylegan2 model. (This could easily be ported to other models, if anyone implements it please get in touch, and i'll add it to the notebook!)\n",
        "\n",
        "Notebook put together by [@realmeatyhuman](https://twitter.com/realmeatyhuman)\n",
        "\n"
      ]
    },
    {
      "cell_type": "code",
      "metadata": {
        "id": "yyjPqusnkHHJ",
        "outputId": "4c1365fd-a678-4989-f10a-755bc6a63c89",
        "colab": {
          "base_uri": "https://localhost:8080/",
          "height": 35
        }
      },
      "source": [
        "%tensorflow_version 1.x"
      ],
      "execution_count": null,
      "outputs": [
        {
          "output_type": "stream",
          "text": [
            "TensorFlow 1.x selected.\n"
          ],
          "name": "stdout"
        }
      ]
    },
    {
      "cell_type": "code",
      "metadata": {
        "id": "lM2k1EDpBZFc",
        "cellView": "form",
        "outputId": "8e44bb8e-2de1-4ac5-e693-cab1e0949617",
        "colab": {
          "base_uri": "https://localhost:8080/",
          "height": 35
        }
      },
      "source": [
        "#@title Mount Google Drive\n",
        "from google.colab import drive\n",
        "drive.mount('/content/drive/', force_remount=True)"
      ],
      "execution_count": null,
      "outputs": [
        {
          "output_type": "stream",
          "text": [
            "Mounted at /content/drive/\n"
          ],
          "name": "stdout"
        }
      ]
    },
    {
      "cell_type": "markdown",
      "metadata": {
        "id": "W-gc95AN_wQ4"
      },
      "source": [
        "\n",
        "## Setup\n",
        "Hit play on all the cells below, and everything should run smoothly. The install takes around a minute and a half - go grab yourself a cup of tea.\n",
        "\n"
      ]
    },
    {
      "cell_type": "code",
      "metadata": {
        "id": "04xop1hZISlG",
        "cellView": "both",
        "outputId": "442f8f47-edd8-413b-a453-85adf624eb8f",
        "colab": {
          "base_uri": "https://localhost:8080/",
          "height": 219
        }
      },
      "source": [
        "%cd /content/\n",
        "!git clone https://github.com/woctezuma/ganspace\n",
        "\n",
        "%cd /content/ganspace/\n",
        "!git checkout steam"
      ],
      "execution_count": null,
      "outputs": [
        {
          "output_type": "stream",
          "text": [
            "/content\n",
            "Cloning into 'ganspace'...\n",
            "remote: Enumerating objects: 86, done.\u001b[K\n",
            "remote: Counting objects: 100% (86/86), done.\u001b[K\n",
            "remote: Compressing objects: 100% (74/74), done.\u001b[K\n",
            "remote: Total 309 (delta 12), reused 75 (delta 10), pack-reused 223\u001b[K\n",
            "Receiving objects: 100% (309/309), 46.38 MiB | 49.02 MiB/s, done.\n",
            "Resolving deltas: 100% (85/85), done.\n",
            "/content/ganspace\n",
            "Branch 'steam' set up to track remote branch 'steam' from 'origin'.\n",
            "Switched to a new branch 'steam'\n"
          ],
          "name": "stdout"
        }
      ]
    },
    {
      "cell_type": "code",
      "metadata": {
        "id": "dKCsAiNNFLnn",
        "cellView": "form",
        "outputId": "f4ef4a45-d67e-468e-f9d1-06488d5090d7",
        "colab": {
          "base_uri": "https://localhost:8080/",
          "height": 200
        }
      },
      "source": [
        "#@title Install remaining packages\n",
        "from IPython.display import Javascript\n",
        "display(Javascript('''google.colab.output.setIframeHeight(0, true, {maxHeight: 200})'''))\n",
        "\n",
        "!pip install fbpca pyopengltk Ninja\n",
        "!git submodule update --init --recursive\n",
        "!python -c \"import nltk; nltk.download('wordnet')\"\n",
        "%cd models/stylegan2/stylegan2-pytorch/op\n",
        "!python setup.py install\n",
        "!python -c \"import torch; import upfirdn2d_op; import fused; print('OK')\"\n",
        "%cd \"/content/ganspace\""
      ],
      "execution_count": null,
      "outputs": [
        {
          "output_type": "display_data",
          "data": {
            "application/javascript": [
              "google.colab.output.setIframeHeight(0, true, {maxHeight: 200})"
            ],
            "text/plain": [
              "<IPython.core.display.Javascript object>"
            ]
          },
          "metadata": {
            "tags": []
          }
        },
        {
          "output_type": "stream",
          "text": [
            "Requirement already satisfied: fbpca in /usr/local/lib/python3.6/dist-packages (1.0)\n",
            "Requirement already satisfied: pyopengltk in /usr/local/lib/python3.6/dist-packages (0.0.3)\n",
            "Requirement already satisfied: Ninja in /usr/local/lib/python3.6/dist-packages (1.10.0.post2)\n",
            "Requirement already satisfied: pyopengl in /usr/local/lib/python3.6/dist-packages (from pyopengltk) (3.1.5)\n",
            "Submodule 'stylegan/stylegan_tf' (https://github.com/NVlabs/stylegan.git) registered for path 'models/stylegan/stylegan_tf'\n",
            "Submodule 'stylegan2/stylegan2-pytorch' (https://github.com/harskish/stylegan2-pytorch.git) registered for path 'models/stylegan2/stylegan2-pytorch'\n",
            "Cloning into '/content/ganspace/models/stylegan/stylegan_tf'...\n",
            "Cloning into '/content/ganspace/models/stylegan2/stylegan2-pytorch'...\n",
            "Submodule path 'models/stylegan/stylegan_tf': checked out '66813a32aac5045fcde72751522a0c0ba963f6f2'\n",
            "Submodule path 'models/stylegan2/stylegan2-pytorch': checked out '76ca1058fc587b1846523bc382f0ece848bb0711'\n",
            "[nltk_data] Downloading package wordnet to /root/nltk_data...\n",
            "[nltk_data]   Package wordnet is already up-to-date!\n",
            "/content/ganspace/models/stylegan2/stylegan2-pytorch/op\n",
            "running install\n",
            "running bdist_egg\n",
            "running egg_info\n",
            "creating upfirdn2d.egg-info\n",
            "writing upfirdn2d.egg-info/PKG-INFO\n",
            "writing dependency_links to upfirdn2d.egg-info/dependency_links.txt\n",
            "writing top-level names to upfirdn2d.egg-info/top_level.txt\n",
            "writing manifest file 'upfirdn2d.egg-info/SOURCES.txt'\n",
            "writing manifest file 'upfirdn2d.egg-info/SOURCES.txt'\n",
            "installing library code to build/bdist.linux-x86_64/egg\n",
            "running install_lib\n",
            "running build_ext\n",
            "building 'upfirdn2d_op' extension\n",
            "creating /content/ganspace/models/stylegan2/stylegan2-pytorch/op/build\n",
            "creating /content/ganspace/models/stylegan2/stylegan2-pytorch/op/build/temp.linux-x86_64-3.6\n",
            "creating /content/ganspace/models/stylegan2/stylegan2-pytorch/op/build/temp.linux-x86_64-3.6/content\n",
            "creating /content/ganspace/models/stylegan2/stylegan2-pytorch/op/build/temp.linux-x86_64-3.6/content/ganspace\n",
            "creating /content/ganspace/models/stylegan2/stylegan2-pytorch/op/build/temp.linux-x86_64-3.6/content/ganspace/models\n",
            "creating /content/ganspace/models/stylegan2/stylegan2-pytorch/op/build/temp.linux-x86_64-3.6/content/ganspace/models/stylegan2\n",
            "creating /content/ganspace/models/stylegan2/stylegan2-pytorch/op/build/temp.linux-x86_64-3.6/content/ganspace/models/stylegan2/stylegan2-pytorch\n",
            "creating /content/ganspace/models/stylegan2/stylegan2-pytorch/op/build/temp.linux-x86_64-3.6/content/ganspace/models/stylegan2/stylegan2-pytorch/op\n",
            "Emitting ninja build file /content/ganspace/models/stylegan2/stylegan2-pytorch/op/build/temp.linux-x86_64-3.6/build.ninja...\n",
            "Compiling objects...\n",
            "Allowing ninja to set a default number of workers... (overridable by setting the environment variable MAX_JOBS=N)\n",
            "[1/2] c++ -MMD -MF /content/ganspace/models/stylegan2/stylegan2-pytorch/op/build/temp.linux-x86_64-3.6/content/ganspace/models/stylegan2/stylegan2-pytorch/op/upfirdn2d.o.d -pthread -DNDEBUG -g -fwrapv -O2 -Wall -g -fstack-protector-strong -Wformat -Werror=format-security -Wdate-time -D_FORTIFY_SOURCE=2 -fPIC -I/usr/local/lib/python3.6/dist-packages/torch/include -I/usr/local/lib/python3.6/dist-packages/torch/include/torch/csrc/api/include -I/usr/local/lib/python3.6/dist-packages/torch/include/TH -I/usr/local/lib/python3.6/dist-packages/torch/include/THC -I/usr/local/cuda/include -I/usr/include/python3.6m -c -c /content/ganspace/models/stylegan2/stylegan2-pytorch/op/upfirdn2d.cpp -o /content/ganspace/models/stylegan2/stylegan2-pytorch/op/build/temp.linux-x86_64-3.6/content/ganspace/models/stylegan2/stylegan2-pytorch/op/upfirdn2d.o -DTORCH_API_INCLUDE_EXTENSION_H -DTORCH_EXTENSION_NAME=upfirdn2d_op -D_GLIBCXX_USE_CXX11_ABI=0 -std=c++14\n",
            "In file included from /usr/local/lib/python3.6/dist-packages/torch/include/ATen/Parallel.h:149:0,\n",
            "                 from /usr/local/lib/python3.6/dist-packages/torch/include/torch/csrc/api/include/torch/utils.h:3,\n",
            "                 from /usr/local/lib/python3.6/dist-packages/torch/include/torch/csrc/api/include/torch/nn/cloneable.h:5,\n",
            "                 from /usr/local/lib/python3.6/dist-packages/torch/include/torch/csrc/api/include/torch/nn.h:3,\n",
            "                 from /usr/local/lib/python3.6/dist-packages/torch/include/torch/csrc/api/include/torch/all.h:7,\n",
            "                 from /usr/local/lib/python3.6/dist-packages/torch/include/torch/extension.h:4,\n",
            "                 from /content/ganspace/models/stylegan2/stylegan2-pytorch/op/upfirdn2d.cpp:1:\n",
            "/usr/local/lib/python3.6/dist-packages/torch/include/ATen/ParallelOpenMP.h:84:0: warning: ignoring #pragma omp parallel [-Wunknown-pragmas]\n",
            " #pragma omp parallel for if ((end - begin) >= grain_size)\n",
            " \n",
            "In file included from /usr/local/lib/python3.6/dist-packages/torch/include/c10/core/DeviceType.h:8:0,\n",
            "                 from /usr/local/lib/python3.6/dist-packages/torch/include/c10/core/Device.h:3,\n",
            "                 from /usr/local/lib/python3.6/dist-packages/torch/include/c10/core/Allocator.h:6,\n",
            "                 from /usr/local/lib/python3.6/dist-packages/torch/include/ATen/ATen.h:3,\n",
            "                 from /usr/local/lib/python3.6/dist-packages/torch/include/torch/csrc/api/include/torch/types.h:3,\n",
            "                 from /usr/local/lib/python3.6/dist-packages/torch/include/torch/csrc/api/include/torch/data/dataloader_options.h:4,\n",
            "                 from /usr/local/lib/python3.6/dist-packages/torch/include/torch/csrc/api/include/torch/data/dataloader/base.h:3,\n",
            "                 from /usr/local/lib/python3.6/dist-packages/torch/include/torch/csrc/api/include/torch/data/dataloader/stateful.h:3,\n",
            "                 from /usr/local/lib/python3.6/dist-packages/torch/include/torch/csrc/api/include/torch/data/dataloader.h:3,\n",
            "                 from /usr/local/lib/python3.6/dist-packages/torch/include/torch/csrc/api/include/torch/data.h:3,\n",
            "                 from /usr/local/lib/python3.6/dist-packages/torch/include/torch/csrc/api/include/torch/all.h:4,\n",
            "                 from /usr/local/lib/python3.6/dist-packages/torch/include/torch/extension.h:4,\n",
            "                 from /content/ganspace/models/stylegan2/stylegan2-pytorch/op/upfirdn2d.cpp:1:\n",
            "/content/ganspace/models/stylegan2/stylegan2-pytorch/op/upfirdn2d.cpp: In function ‘at::Tensor upfirdn2d(const at::Tensor&, const at::Tensor&, int, int, int, int, int, int, int, int)’:\n",
            "/content/ganspace/models/stylegan2/stylegan2-pytorch/op/upfirdn2d.cpp:8:42: warning: ‘at::DeprecatedTypeProperties& at::Tensor::type() const’ is deprecated: Tensor.type() is deprecated. Instead use Tensor.options(), which in many cases (e.g. in a constructor) is a drop-in replacement. If you were using data from type(), that is now available from Tensor itself, so instead of tensor.type().scalar_type(), use tensor.scalar_type() instead and instead of tensor.type().backend() use tensor.device(). [-Wdeprecated-declarations]\n",
            " #define CHECK_CUDA(x) TORCH_CHECK(x.type().is_cuda(), #x \" must be a CUDA tensor\")\n",
            "                                          ^\n",
            "/usr/local/lib/python3.6/dist-packages/torch/include/c10/macros/Macros.h:146:65: note: in definition of macro ‘C10_UNLIKELY’\n",
            " #define C10_UNLIKELY(expr)  (__builtin_expect(static_cast<bool>(expr), 0))\n",
            "                                                                 ^~~~\n",
            "/usr/local/lib/python3.6/dist-packages/torch/include/c10/util/Exception.h:330:7: note: in expansion of macro ‘C10_UNLIKELY_OR_CONST’\n",
            "   if (C10_UNLIKELY_OR_CONST(!(cond))) {                               \\\n",
            "       ^~~~~~~~~~~~~~~~~~~~~\n",
            "/usr/local/lib/python3.6/dist-packages/torch/include/c10/util/Exception.h:318:3: note: in expansion of macro ‘TORCH_CHECK_WITH_MSG’\n",
            "   TORCH_CHECK_WITH_MSG(error_t, cond, \"\", __VA_ARGS__)\n",
            "   ^~~~~~~~~~~~~~~~~~~~\n",
            "/usr/local/lib/python3.6/dist-packages/torch/include/c10/util/Exception.h:341:32: note: in expansion of macro ‘TORCH_CHECK_WITH’\n",
            " #define TORCH_CHECK(cond, ...) TORCH_CHECK_WITH(Error, cond, __VA_ARGS__)\n",
            "                                ^~~~~~~~~~~~~~~~\n",
            "/content/ganspace/models/stylegan2/stylegan2-pytorch/op/upfirdn2d.cpp:8:23: note: in expansion of macro ‘TORCH_CHECK’\n",
            " #define CHECK_CUDA(x) TORCH_CHECK(x.type().is_cuda(), #x \" must be a CUDA tensor\")\n",
            "                       ^~~~~~~~~~~\n",
            "/content/ganspace/models/stylegan2/stylegan2-pytorch/op/upfirdn2d.cpp:15:5: note: in expansion of macro ‘CHECK_CUDA’\n",
            "     CHECK_CUDA(input);\n",
            "     ^~~~~~~~~~\n",
            "In file included from /usr/local/lib/python3.6/dist-packages/torch/include/ATen/Tensor.h:3:0,\n",
            "                 from /usr/local/lib/python3.6/dist-packages/torch/include/ATen/Context.h:4,\n",
            "                 from /usr/local/lib/python3.6/dist-packages/torch/include/ATen/ATen.h:5,\n",
            "                 from /usr/local/lib/python3.6/dist-packages/torch/include/torch/csrc/api/include/torch/types.h:3,\n",
            "                 from /usr/local/lib/python3.6/dist-packages/torch/include/torch/csrc/api/include/torch/data/dataloader_options.h:4,\n",
            "                 from /usr/local/lib/python3.6/dist-packages/torch/include/torch/csrc/api/include/torch/data/dataloader/base.h:3,\n",
            "                 from /usr/local/lib/python3.6/dist-packages/torch/include/torch/csrc/api/include/torch/data/dataloader/stateful.h:3,\n",
            "                 from /usr/local/lib/python3.6/dist-packages/torch/include/torch/csrc/api/include/torch/data/dataloader.h:3,\n",
            "                 from /usr/local/lib/python3.6/dist-packages/torch/include/torch/csrc/api/include/torch/data.h:3,\n",
            "                 from /usr/local/lib/python3.6/dist-packages/torch/include/torch/csrc/api/include/torch/all.h:4,\n",
            "                 from /usr/local/lib/python3.6/dist-packages/torch/include/torch/extension.h:4,\n",
            "                 from /content/ganspace/models/stylegan2/stylegan2-pytorch/op/upfirdn2d.cpp:1:\n",
            "/usr/local/lib/python3.6/dist-packages/torch/include/ATen/core/TensorBody.h:268:30: note: declared here\n",
            "   DeprecatedTypeProperties & type() const {\n",
            "                              ^~~~\n",
            "In file included from /usr/local/lib/python3.6/dist-packages/torch/include/c10/core/DeviceType.h:8:0,\n",
            "                 from /usr/local/lib/python3.6/dist-packages/torch/include/c10/core/Device.h:3,\n",
            "                 from /usr/local/lib/python3.6/dist-packages/torch/include/c10/core/Allocator.h:6,\n",
            "                 from /usr/local/lib/python3.6/dist-packages/torch/include/ATen/ATen.h:3,\n",
            "                 from /usr/local/lib/python3.6/dist-packages/torch/include/torch/csrc/api/include/torch/types.h:3,\n",
            "                 from /usr/local/lib/python3.6/dist-packages/torch/include/torch/csrc/api/include/torch/data/dataloader_options.h:4,\n",
            "                 from /usr/local/lib/python3.6/dist-packages/torch/include/torch/csrc/api/include/torch/data/dataloader/base.h:3,\n",
            "                 from /usr/local/lib/python3.6/dist-packages/torch/include/torch/csrc/api/include/torch/data/dataloader/stateful.h:3,\n",
            "                 from /usr/local/lib/python3.6/dist-packages/torch/include/torch/csrc/api/include/torch/data/dataloader.h:3,\n",
            "                 from /usr/local/lib/python3.6/dist-packages/torch/include/torch/csrc/api/include/torch/data.h:3,\n",
            "                 from /usr/local/lib/python3.6/dist-packages/torch/include/torch/csrc/api/include/torch/all.h:4,\n",
            "                 from /usr/local/lib/python3.6/dist-packages/torch/include/torch/extension.h:4,\n",
            "                 from /content/ganspace/models/stylegan2/stylegan2-pytorch/op/upfirdn2d.cpp:1:\n",
            "/content/ganspace/models/stylegan2/stylegan2-pytorch/op/upfirdn2d.cpp:8:42: warning: ‘at::DeprecatedTypeProperties& at::Tensor::type() const’ is deprecated: Tensor.type() is deprecated. Instead use Tensor.options(), which in many cases (e.g. in a constructor) is a drop-in replacement. If you were using data from type(), that is now available from Tensor itself, so instead of tensor.type().scalar_type(), use tensor.scalar_type() instead and instead of tensor.type().backend() use tensor.device(). [-Wdeprecated-declarations]\n",
            " #define CHECK_CUDA(x) TORCH_CHECK(x.type().is_cuda(), #x \" must be a CUDA tensor\")\n",
            "                                          ^\n",
            "/usr/local/lib/python3.6/dist-packages/torch/include/c10/macros/Macros.h:146:65: note: in definition of macro ‘C10_UNLIKELY’\n",
            " #define C10_UNLIKELY(expr)  (__builtin_expect(static_cast<bool>(expr), 0))\n",
            "                                                                 ^~~~\n",
            "/usr/local/lib/python3.6/dist-packages/torch/include/c10/util/Exception.h:330:7: note: in expansion of macro ‘C10_UNLIKELY_OR_CONST’\n",
            "   if (C10_UNLIKELY_OR_CONST(!(cond))) {                               \\\n",
            "       ^~~~~~~~~~~~~~~~~~~~~\n",
            "/usr/local/lib/python3.6/dist-packages/torch/include/c10/util/Exception.h:318:3: note: in expansion of macro ‘TORCH_CHECK_WITH_MSG’\n",
            "   TORCH_CHECK_WITH_MSG(error_t, cond, \"\", __VA_ARGS__)\n",
            "   ^~~~~~~~~~~~~~~~~~~~\n",
            "/usr/local/lib/python3.6/dist-packages/torch/include/c10/util/Exception.h:341:32: note: in expansion of macro ‘TORCH_CHECK_WITH’\n",
            " #define TORCH_CHECK(cond, ...) TORCH_CHECK_WITH(Error, cond, __VA_ARGS__)\n",
            "                                ^~~~~~~~~~~~~~~~\n",
            "/content/ganspace/models/stylegan2/stylegan2-pytorch/op/upfirdn2d.cpp:8:23: note: in expansion of macro ‘TORCH_CHECK’\n",
            " #define CHECK_CUDA(x) TORCH_CHECK(x.type().is_cuda(), #x \" must be a CUDA tensor\")\n",
            "                       ^~~~~~~~~~~\n",
            "/content/ganspace/models/stylegan2/stylegan2-pytorch/op/upfirdn2d.cpp:16:5: note: in expansion of macro ‘CHECK_CUDA’\n",
            "     CHECK_CUDA(kernel);\n",
            "     ^~~~~~~~~~\n",
            "In file included from /usr/local/lib/python3.6/dist-packages/torch/include/ATen/Tensor.h:3:0,\n",
            "                 from /usr/local/lib/python3.6/dist-packages/torch/include/ATen/Context.h:4,\n",
            "                 from /usr/local/lib/python3.6/dist-packages/torch/include/ATen/ATen.h:5,\n",
            "                 from /usr/local/lib/python3.6/dist-packages/torch/include/torch/csrc/api/include/torch/types.h:3,\n",
            "                 from /usr/local/lib/python3.6/dist-packages/torch/include/torch/csrc/api/include/torch/data/dataloader_options.h:4,\n",
            "                 from /usr/local/lib/python3.6/dist-packages/torch/include/torch/csrc/api/include/torch/data/dataloader/base.h:3,\n",
            "                 from /usr/local/lib/python3.6/dist-packages/torch/include/torch/csrc/api/include/torch/data/dataloader/stateful.h:3,\n",
            "                 from /usr/local/lib/python3.6/dist-packages/torch/include/torch/csrc/api/include/torch/data/dataloader.h:3,\n",
            "                 from /usr/local/lib/python3.6/dist-packages/torch/include/torch/csrc/api/include/torch/data.h:3,\n",
            "                 from /usr/local/lib/python3.6/dist-packages/torch/include/torch/csrc/api/include/torch/all.h:4,\n",
            "                 from /usr/local/lib/python3.6/dist-packages/torch/include/torch/extension.h:4,\n",
            "                 from /content/ganspace/models/stylegan2/stylegan2-pytorch/op/upfirdn2d.cpp:1:\n",
            "/usr/local/lib/python3.6/dist-packages/torch/include/ATen/core/TensorBody.h:268:30: note: declared here\n",
            "   DeprecatedTypeProperties & type() const {\n",
            "                              ^~~~\n",
            "[2/2] /usr/local/cuda/bin/nvcc -I/usr/local/lib/python3.6/dist-packages/torch/include -I/usr/local/lib/python3.6/dist-packages/torch/include/torch/csrc/api/include -I/usr/local/lib/python3.6/dist-packages/torch/include/TH -I/usr/local/lib/python3.6/dist-packages/torch/include/THC -I/usr/local/cuda/include -I/usr/include/python3.6m -c -c /content/ganspace/models/stylegan2/stylegan2-pytorch/op/upfirdn2d_kernel.cu -o /content/ganspace/models/stylegan2/stylegan2-pytorch/op/build/temp.linux-x86_64-3.6/content/ganspace/models/stylegan2/stylegan2-pytorch/op/upfirdn2d_kernel.o -D__CUDA_NO_HALF_OPERATORS__ -D__CUDA_NO_HALF_CONVERSIONS__ -D__CUDA_NO_HALF2_OPERATORS__ --expt-relaxed-constexpr --compiler-options ''\"'\"'-fPIC'\"'\"'' -DTORCH_API_INCLUDE_EXTENSION_H -DTORCH_EXTENSION_NAME=upfirdn2d_op -D_GLIBCXX_USE_CXX11_ABI=0 -gencode=arch=compute_75,code=sm_75 -std=c++14\n",
            "/usr/local/lib/python3.6/dist-packages/torch/include/ATen/record_function.h(18): warning: attribute \"__visibility__\" does not apply here\n",
            "\n",
            "/usr/local/lib/python3.6/dist-packages/torch/include/ATen/record_function.h(18): warning: attribute \"__visibility__\" does not apply here\n",
            "\n",
            "creating build/lib.linux-x86_64-3.6\n",
            "x86_64-linux-gnu-g++ -pthread -shared -Wl,-O1 -Wl,-Bsymbolic-functions -Wl,-Bsymbolic-functions -Wl,-z,relro -Wl,-Bsymbolic-functions -Wl,-z,relro -g -fstack-protector-strong -Wformat -Werror=format-security -Wdate-time -D_FORTIFY_SOURCE=2 /content/ganspace/models/stylegan2/stylegan2-pytorch/op/build/temp.linux-x86_64-3.6/content/ganspace/models/stylegan2/stylegan2-pytorch/op/upfirdn2d.o /content/ganspace/models/stylegan2/stylegan2-pytorch/op/build/temp.linux-x86_64-3.6/content/ganspace/models/stylegan2/stylegan2-pytorch/op/upfirdn2d_kernel.o -L/usr/local/lib/python3.6/dist-packages/torch/lib -L/usr/local/cuda/lib64 -lc10 -ltorch -ltorch_cpu -ltorch_python -lcudart -lc10_cuda -ltorch_cuda -o build/lib.linux-x86_64-3.6/upfirdn2d_op.cpython-36m-x86_64-linux-gnu.so\n",
            "creating build/bdist.linux-x86_64\n",
            "creating build/bdist.linux-x86_64/egg\n",
            "copying build/lib.linux-x86_64-3.6/upfirdn2d_op.cpython-36m-x86_64-linux-gnu.so -> build/bdist.linux-x86_64/egg\n",
            "creating stub loader for upfirdn2d_op.cpython-36m-x86_64-linux-gnu.so\n",
            "byte-compiling build/bdist.linux-x86_64/egg/upfirdn2d_op.py to upfirdn2d_op.cpython-36.pyc\n",
            "creating build/bdist.linux-x86_64/egg/EGG-INFO\n",
            "copying upfirdn2d.egg-info/PKG-INFO -> build/bdist.linux-x86_64/egg/EGG-INFO\n",
            "copying upfirdn2d.egg-info/SOURCES.txt -> build/bdist.linux-x86_64/egg/EGG-INFO\n",
            "copying upfirdn2d.egg-info/dependency_links.txt -> build/bdist.linux-x86_64/egg/EGG-INFO\n",
            "copying upfirdn2d.egg-info/top_level.txt -> build/bdist.linux-x86_64/egg/EGG-INFO\n",
            "writing build/bdist.linux-x86_64/egg/EGG-INFO/native_libs.txt\n",
            "zip_safe flag not set; analyzing archive contents...\n",
            "__pycache__.upfirdn2d_op.cpython-36: module references __file__\n",
            "creating dist\n",
            "creating 'dist/upfirdn2d-0.0.0-py3.6-linux-x86_64.egg' and adding 'build/bdist.linux-x86_64/egg' to it\n",
            "removing 'build/bdist.linux-x86_64/egg' (and everything under it)\n",
            "Processing upfirdn2d-0.0.0-py3.6-linux-x86_64.egg\n",
            "removing '/usr/local/lib/python3.6/dist-packages/upfirdn2d-0.0.0-py3.6-linux-x86_64.egg' (and everything under it)\n",
            "creating /usr/local/lib/python3.6/dist-packages/upfirdn2d-0.0.0-py3.6-linux-x86_64.egg\n",
            "Extracting upfirdn2d-0.0.0-py3.6-linux-x86_64.egg to /usr/local/lib/python3.6/dist-packages\n",
            "upfirdn2d 0.0.0 is already the active version in easy-install.pth\n",
            "\n",
            "Installed /usr/local/lib/python3.6/dist-packages/upfirdn2d-0.0.0-py3.6-linux-x86_64.egg\n",
            "Processing dependencies for upfirdn2d==0.0.0\n",
            "Finished processing dependencies for upfirdn2d==0.0.0\n",
            "running install\n",
            "running bdist_egg\n",
            "running egg_info\n",
            "creating fused.egg-info\n",
            "writing fused.egg-info/PKG-INFO\n",
            "writing dependency_links to fused.egg-info/dependency_links.txt\n",
            "writing top-level names to fused.egg-info/top_level.txt\n",
            "writing manifest file 'fused.egg-info/SOURCES.txt'\n",
            "writing manifest file 'fused.egg-info/SOURCES.txt'\n",
            "installing library code to build/bdist.linux-x86_64/egg\n",
            "running install_lib\n",
            "running build_ext\n",
            "building 'fused' extension\n",
            "Emitting ninja build file /content/ganspace/models/stylegan2/stylegan2-pytorch/op/build/temp.linux-x86_64-3.6/build.ninja...\n",
            "Compiling objects...\n",
            "Allowing ninja to set a default number of workers... (overridable by setting the environment variable MAX_JOBS=N)\n",
            "[1/2] c++ -MMD -MF /content/ganspace/models/stylegan2/stylegan2-pytorch/op/build/temp.linux-x86_64-3.6/content/ganspace/models/stylegan2/stylegan2-pytorch/op/fused_bias_act.o.d -pthread -DNDEBUG -g -fwrapv -O2 -Wall -g -fstack-protector-strong -Wformat -Werror=format-security -Wdate-time -D_FORTIFY_SOURCE=2 -fPIC -I/usr/local/lib/python3.6/dist-packages/torch/include -I/usr/local/lib/python3.6/dist-packages/torch/include/torch/csrc/api/include -I/usr/local/lib/python3.6/dist-packages/torch/include/TH -I/usr/local/lib/python3.6/dist-packages/torch/include/THC -I/usr/local/cuda/include -I/usr/include/python3.6m -c -c /content/ganspace/models/stylegan2/stylegan2-pytorch/op/fused_bias_act.cpp -o /content/ganspace/models/stylegan2/stylegan2-pytorch/op/build/temp.linux-x86_64-3.6/content/ganspace/models/stylegan2/stylegan2-pytorch/op/fused_bias_act.o -DTORCH_API_INCLUDE_EXTENSION_H -DTORCH_EXTENSION_NAME=fused -D_GLIBCXX_USE_CXX11_ABI=0 -std=c++14\n",
            "In file included from /usr/local/lib/python3.6/dist-packages/torch/include/ATen/Parallel.h:149:0,\n",
            "                 from /usr/local/lib/python3.6/dist-packages/torch/include/torch/csrc/api/include/torch/utils.h:3,\n",
            "                 from /usr/local/lib/python3.6/dist-packages/torch/include/torch/csrc/api/include/torch/nn/cloneable.h:5,\n",
            "                 from /usr/local/lib/python3.6/dist-packages/torch/include/torch/csrc/api/include/torch/nn.h:3,\n",
            "                 from /usr/local/lib/python3.6/dist-packages/torch/include/torch/csrc/api/include/torch/all.h:7,\n",
            "                 from /usr/local/lib/python3.6/dist-packages/torch/include/torch/extension.h:4,\n",
            "                 from /content/ganspace/models/stylegan2/stylegan2-pytorch/op/fused_bias_act.cpp:1:\n",
            "/usr/local/lib/python3.6/dist-packages/torch/include/ATen/ParallelOpenMP.h:84:0: warning: ignoring #pragma omp parallel [-Wunknown-pragmas]\n",
            " #pragma omp parallel for if ((end - begin) >= grain_size)\n",
            " \n",
            "In file included from /usr/local/lib/python3.6/dist-packages/torch/include/c10/core/DeviceType.h:8:0,\n",
            "                 from /usr/local/lib/python3.6/dist-packages/torch/include/c10/core/Device.h:3,\n",
            "                 from /usr/local/lib/python3.6/dist-packages/torch/include/c10/core/Allocator.h:6,\n",
            "                 from /usr/local/lib/python3.6/dist-packages/torch/include/ATen/ATen.h:3,\n",
            "                 from /usr/local/lib/python3.6/dist-packages/torch/include/torch/csrc/api/include/torch/types.h:3,\n",
            "                 from /usr/local/lib/python3.6/dist-packages/torch/include/torch/csrc/api/include/torch/data/dataloader_options.h:4,\n",
            "                 from /usr/local/lib/python3.6/dist-packages/torch/include/torch/csrc/api/include/torch/data/dataloader/base.h:3,\n",
            "                 from /usr/local/lib/python3.6/dist-packages/torch/include/torch/csrc/api/include/torch/data/dataloader/stateful.h:3,\n",
            "                 from /usr/local/lib/python3.6/dist-packages/torch/include/torch/csrc/api/include/torch/data/dataloader.h:3,\n",
            "                 from /usr/local/lib/python3.6/dist-packages/torch/include/torch/csrc/api/include/torch/data.h:3,\n",
            "                 from /usr/local/lib/python3.6/dist-packages/torch/include/torch/csrc/api/include/torch/all.h:4,\n",
            "                 from /usr/local/lib/python3.6/dist-packages/torch/include/torch/extension.h:4,\n",
            "                 from /content/ganspace/models/stylegan2/stylegan2-pytorch/op/fused_bias_act.cpp:1:\n",
            "/content/ganspace/models/stylegan2/stylegan2-pytorch/op/fused_bias_act.cpp: In function ‘at::Tensor fused_bias_act(const at::Tensor&, const at::Tensor&, const at::Tensor&, int, int, float, float)’:\n",
            "/content/ganspace/models/stylegan2/stylegan2-pytorch/op/fused_bias_act.cpp:7:42: warning: ‘at::DeprecatedTypeProperties& at::Tensor::type() const’ is deprecated: Tensor.type() is deprecated. Instead use Tensor.options(), which in many cases (e.g. in a constructor) is a drop-in replacement. If you were using data from type(), that is now available from Tensor itself, so instead of tensor.type().scalar_type(), use tensor.scalar_type() instead and instead of tensor.type().backend() use tensor.device(). [-Wdeprecated-declarations]\n",
            " #define CHECK_CUDA(x) TORCH_CHECK(x.type().is_cuda(), #x \" must be a CUDA tensor\")\n",
            "                                          ^\n",
            "/usr/local/lib/python3.6/dist-packages/torch/include/c10/macros/Macros.h:146:65: note: in definition of macro ‘C10_UNLIKELY’\n",
            " #define C10_UNLIKELY(expr)  (__builtin_expect(static_cast<bool>(expr), 0))\n",
            "                                                                 ^~~~\n",
            "/usr/local/lib/python3.6/dist-packages/torch/include/c10/util/Exception.h:330:7: note: in expansion of macro ‘C10_UNLIKELY_OR_CONST’\n",
            "   if (C10_UNLIKELY_OR_CONST(!(cond))) {                               \\\n",
            "       ^~~~~~~~~~~~~~~~~~~~~\n",
            "/usr/local/lib/python3.6/dist-packages/torch/include/c10/util/Exception.h:318:3: note: in expansion of macro ‘TORCH_CHECK_WITH_MSG’\n",
            "   TORCH_CHECK_WITH_MSG(error_t, cond, \"\", __VA_ARGS__)\n",
            "   ^~~~~~~~~~~~~~~~~~~~\n",
            "/usr/local/lib/python3.6/dist-packages/torch/include/c10/util/Exception.h:341:32: note: in expansion of macro ‘TORCH_CHECK_WITH’\n",
            " #define TORCH_CHECK(cond, ...) TORCH_CHECK_WITH(Error, cond, __VA_ARGS__)\n",
            "                                ^~~~~~~~~~~~~~~~\n",
            "/content/ganspace/models/stylegan2/stylegan2-pytorch/op/fused_bias_act.cpp:7:23: note: in expansion of macro ‘TORCH_CHECK’\n",
            " #define CHECK_CUDA(x) TORCH_CHECK(x.type().is_cuda(), #x \" must be a CUDA tensor\")\n",
            "                       ^~~~~~~~~~~\n",
            "/content/ganspace/models/stylegan2/stylegan2-pytorch/op/fused_bias_act.cpp:13:5: note: in expansion of macro ‘CHECK_CUDA’\n",
            "     CHECK_CUDA(input);\n",
            "     ^~~~~~~~~~\n",
            "In file included from /usr/local/lib/python3.6/dist-packages/torch/include/ATen/Tensor.h:3:0,\n",
            "                 from /usr/local/lib/python3.6/dist-packages/torch/include/ATen/Context.h:4,\n",
            "                 from /usr/local/lib/python3.6/dist-packages/torch/include/ATen/ATen.h:5,\n",
            "                 from /usr/local/lib/python3.6/dist-packages/torch/include/torch/csrc/api/include/torch/types.h:3,\n",
            "                 from /usr/local/lib/python3.6/dist-packages/torch/include/torch/csrc/api/include/torch/data/dataloader_options.h:4,\n",
            "                 from /usr/local/lib/python3.6/dist-packages/torch/include/torch/csrc/api/include/torch/data/dataloader/base.h:3,\n",
            "                 from /usr/local/lib/python3.6/dist-packages/torch/include/torch/csrc/api/include/torch/data/dataloader/stateful.h:3,\n",
            "                 from /usr/local/lib/python3.6/dist-packages/torch/include/torch/csrc/api/include/torch/data/dataloader.h:3,\n",
            "                 from /usr/local/lib/python3.6/dist-packages/torch/include/torch/csrc/api/include/torch/data.h:3,\n",
            "                 from /usr/local/lib/python3.6/dist-packages/torch/include/torch/csrc/api/include/torch/all.h:4,\n",
            "                 from /usr/local/lib/python3.6/dist-packages/torch/include/torch/extension.h:4,\n",
            "                 from /content/ganspace/models/stylegan2/stylegan2-pytorch/op/fused_bias_act.cpp:1:\n",
            "/usr/local/lib/python3.6/dist-packages/torch/include/ATen/core/TensorBody.h:268:30: note: declared here\n",
            "   DeprecatedTypeProperties & type() const {\n",
            "                              ^~~~\n",
            "In file included from /usr/local/lib/python3.6/dist-packages/torch/include/c10/core/DeviceType.h:8:0,\n",
            "                 from /usr/local/lib/python3.6/dist-packages/torch/include/c10/core/Device.h:3,\n",
            "                 from /usr/local/lib/python3.6/dist-packages/torch/include/c10/core/Allocator.h:6,\n",
            "                 from /usr/local/lib/python3.6/dist-packages/torch/include/ATen/ATen.h:3,\n",
            "                 from /usr/local/lib/python3.6/dist-packages/torch/include/torch/csrc/api/include/torch/types.h:3,\n",
            "                 from /usr/local/lib/python3.6/dist-packages/torch/include/torch/csrc/api/include/torch/data/dataloader_options.h:4,\n",
            "                 from /usr/local/lib/python3.6/dist-packages/torch/include/torch/csrc/api/include/torch/data/dataloader/base.h:3,\n",
            "                 from /usr/local/lib/python3.6/dist-packages/torch/include/torch/csrc/api/include/torch/data/dataloader/stateful.h:3,\n",
            "                 from /usr/local/lib/python3.6/dist-packages/torch/include/torch/csrc/api/include/torch/data/dataloader.h:3,\n",
            "                 from /usr/local/lib/python3.6/dist-packages/torch/include/torch/csrc/api/include/torch/data.h:3,\n",
            "                 from /usr/local/lib/python3.6/dist-packages/torch/include/torch/csrc/api/include/torch/all.h:4,\n",
            "                 from /usr/local/lib/python3.6/dist-packages/torch/include/torch/extension.h:4,\n",
            "                 from /content/ganspace/models/stylegan2/stylegan2-pytorch/op/fused_bias_act.cpp:1:\n",
            "/content/ganspace/models/stylegan2/stylegan2-pytorch/op/fused_bias_act.cpp:7:42: warning: ‘at::DeprecatedTypeProperties& at::Tensor::type() const’ is deprecated: Tensor.type() is deprecated. Instead use Tensor.options(), which in many cases (e.g. in a constructor) is a drop-in replacement. If you were using data from type(), that is now available from Tensor itself, so instead of tensor.type().scalar_type(), use tensor.scalar_type() instead and instead of tensor.type().backend() use tensor.device(). [-Wdeprecated-declarations]\n",
            " #define CHECK_CUDA(x) TORCH_CHECK(x.type().is_cuda(), #x \" must be a CUDA tensor\")\n",
            "                                          ^\n",
            "/usr/local/lib/python3.6/dist-packages/torch/include/c10/macros/Macros.h:146:65: note: in definition of macro ‘C10_UNLIKELY’\n",
            " #define C10_UNLIKELY(expr)  (__builtin_expect(static_cast<bool>(expr), 0))\n",
            "                                                                 ^~~~\n",
            "/usr/local/lib/python3.6/dist-packages/torch/include/c10/util/Exception.h:330:7: note: in expansion of macro ‘C10_UNLIKELY_OR_CONST’\n",
            "   if (C10_UNLIKELY_OR_CONST(!(cond))) {                               \\\n",
            "       ^~~~~~~~~~~~~~~~~~~~~\n",
            "/usr/local/lib/python3.6/dist-packages/torch/include/c10/util/Exception.h:318:3: note: in expansion of macro ‘TORCH_CHECK_WITH_MSG’\n",
            "   TORCH_CHECK_WITH_MSG(error_t, cond, \"\", __VA_ARGS__)\n",
            "   ^~~~~~~~~~~~~~~~~~~~\n",
            "/usr/local/lib/python3.6/dist-packages/torch/include/c10/util/Exception.h:341:32: note: in expansion of macro ‘TORCH_CHECK_WITH’\n",
            " #define TORCH_CHECK(cond, ...) TORCH_CHECK_WITH(Error, cond, __VA_ARGS__)\n",
            "                                ^~~~~~~~~~~~~~~~\n",
            "/content/ganspace/models/stylegan2/stylegan2-pytorch/op/fused_bias_act.cpp:7:23: note: in expansion of macro ‘TORCH_CHECK’\n",
            " #define CHECK_CUDA(x) TORCH_CHECK(x.type().is_cuda(), #x \" must be a CUDA tensor\")\n",
            "                       ^~~~~~~~~~~\n",
            "/content/ganspace/models/stylegan2/stylegan2-pytorch/op/fused_bias_act.cpp:14:5: note: in expansion of macro ‘CHECK_CUDA’\n",
            "     CHECK_CUDA(bias);\n",
            "     ^~~~~~~~~~\n",
            "In file included from /usr/local/lib/python3.6/dist-packages/torch/include/ATen/Tensor.h:3:0,\n",
            "                 from /usr/local/lib/python3.6/dist-packages/torch/include/ATen/Context.h:4,\n",
            "                 from /usr/local/lib/python3.6/dist-packages/torch/include/ATen/ATen.h:5,\n",
            "                 from /usr/local/lib/python3.6/dist-packages/torch/include/torch/csrc/api/include/torch/types.h:3,\n",
            "                 from /usr/local/lib/python3.6/dist-packages/torch/include/torch/csrc/api/include/torch/data/dataloader_options.h:4,\n",
            "                 from /usr/local/lib/python3.6/dist-packages/torch/include/torch/csrc/api/include/torch/data/dataloader/base.h:3,\n",
            "                 from /usr/local/lib/python3.6/dist-packages/torch/include/torch/csrc/api/include/torch/data/dataloader/stateful.h:3,\n",
            "                 from /usr/local/lib/python3.6/dist-packages/torch/include/torch/csrc/api/include/torch/data/dataloader.h:3,\n",
            "                 from /usr/local/lib/python3.6/dist-packages/torch/include/torch/csrc/api/include/torch/data.h:3,\n",
            "                 from /usr/local/lib/python3.6/dist-packages/torch/include/torch/csrc/api/include/torch/all.h:4,\n",
            "                 from /usr/local/lib/python3.6/dist-packages/torch/include/torch/extension.h:4,\n",
            "                 from /content/ganspace/models/stylegan2/stylegan2-pytorch/op/fused_bias_act.cpp:1:\n",
            "/usr/local/lib/python3.6/dist-packages/torch/include/ATen/core/TensorBody.h:268:30: note: declared here\n",
            "   DeprecatedTypeProperties & type() const {\n",
            "                              ^~~~\n",
            "[2/2] /usr/local/cuda/bin/nvcc -I/usr/local/lib/python3.6/dist-packages/torch/include -I/usr/local/lib/python3.6/dist-packages/torch/include/torch/csrc/api/include -I/usr/local/lib/python3.6/dist-packages/torch/include/TH -I/usr/local/lib/python3.6/dist-packages/torch/include/THC -I/usr/local/cuda/include -I/usr/include/python3.6m -c -c /content/ganspace/models/stylegan2/stylegan2-pytorch/op/fused_bias_act_kernel.cu -o /content/ganspace/models/stylegan2/stylegan2-pytorch/op/build/temp.linux-x86_64-3.6/content/ganspace/models/stylegan2/stylegan2-pytorch/op/fused_bias_act_kernel.o -D__CUDA_NO_HALF_OPERATORS__ -D__CUDA_NO_HALF_CONVERSIONS__ -D__CUDA_NO_HALF2_OPERATORS__ --expt-relaxed-constexpr --compiler-options ''\"'\"'-fPIC'\"'\"'' -DTORCH_API_INCLUDE_EXTENSION_H -DTORCH_EXTENSION_NAME=fused -D_GLIBCXX_USE_CXX11_ABI=0 -gencode=arch=compute_75,code=sm_75 -std=c++14\n",
            "/usr/local/lib/python3.6/dist-packages/torch/include/ATen/record_function.h(18): warning: attribute \"__visibility__\" does not apply here\n",
            "\n",
            "/usr/local/lib/python3.6/dist-packages/torch/include/ATen/record_function.h(18): warning: attribute \"__visibility__\" does not apply here\n",
            "\n",
            "x86_64-linux-gnu-g++ -pthread -shared -Wl,-O1 -Wl,-Bsymbolic-functions -Wl,-Bsymbolic-functions -Wl,-z,relro -Wl,-Bsymbolic-functions -Wl,-z,relro -g -fstack-protector-strong -Wformat -Werror=format-security -Wdate-time -D_FORTIFY_SOURCE=2 /content/ganspace/models/stylegan2/stylegan2-pytorch/op/build/temp.linux-x86_64-3.6/content/ganspace/models/stylegan2/stylegan2-pytorch/op/fused_bias_act.o /content/ganspace/models/stylegan2/stylegan2-pytorch/op/build/temp.linux-x86_64-3.6/content/ganspace/models/stylegan2/stylegan2-pytorch/op/fused_bias_act_kernel.o -L/usr/local/lib/python3.6/dist-packages/torch/lib -L/usr/local/cuda/lib64 -lc10 -ltorch -ltorch_cpu -ltorch_python -lcudart -lc10_cuda -ltorch_cuda -o build/lib.linux-x86_64-3.6/fused.cpython-36m-x86_64-linux-gnu.so\n",
            "creating build/bdist.linux-x86_64/egg\n",
            "copying build/lib.linux-x86_64-3.6/upfirdn2d_op.cpython-36m-x86_64-linux-gnu.so -> build/bdist.linux-x86_64/egg\n",
            "copying build/lib.linux-x86_64-3.6/fused.cpython-36m-x86_64-linux-gnu.so -> build/bdist.linux-x86_64/egg\n",
            "creating stub loader for fused.cpython-36m-x86_64-linux-gnu.so\n",
            "byte-compiling build/bdist.linux-x86_64/egg/fused.py to fused.cpython-36.pyc\n",
            "creating build/bdist.linux-x86_64/egg/EGG-INFO\n",
            "copying fused.egg-info/PKG-INFO -> build/bdist.linux-x86_64/egg/EGG-INFO\n",
            "copying fused.egg-info/SOURCES.txt -> build/bdist.linux-x86_64/egg/EGG-INFO\n",
            "copying fused.egg-info/dependency_links.txt -> build/bdist.linux-x86_64/egg/EGG-INFO\n",
            "copying fused.egg-info/top_level.txt -> build/bdist.linux-x86_64/egg/EGG-INFO\n",
            "writing build/bdist.linux-x86_64/egg/EGG-INFO/native_libs.txt\n",
            "zip_safe flag not set; analyzing archive contents...\n",
            "__pycache__.fused.cpython-36: module references __file__\n",
            "creating 'dist/fused-0.0.0-py3.6-linux-x86_64.egg' and adding 'build/bdist.linux-x86_64/egg' to it\n",
            "removing 'build/bdist.linux-x86_64/egg' (and everything under it)\n",
            "Processing fused-0.0.0-py3.6-linux-x86_64.egg\n",
            "removing '/usr/local/lib/python3.6/dist-packages/fused-0.0.0-py3.6-linux-x86_64.egg' (and everything under it)\n",
            "creating /usr/local/lib/python3.6/dist-packages/fused-0.0.0-py3.6-linux-x86_64.egg\n",
            "Extracting fused-0.0.0-py3.6-linux-x86_64.egg to /usr/local/lib/python3.6/dist-packages\n",
            "fused 0.0.0 is already the active version in easy-install.pth\n",
            "\n",
            "Installed /usr/local/lib/python3.6/dist-packages/fused-0.0.0-py3.6-linux-x86_64.egg\n",
            "Processing dependencies for fused==0.0.0\n",
            "Finished processing dependencies for fused==0.0.0\n",
            "OK\n",
            "/content/ganspace\n"
          ],
          "name": "stdout"
        }
      ]
    },
    {
      "cell_type": "markdown",
      "metadata": {
        "id": "jo8zwRspKJBb"
      },
      "source": [
        "# Convert model weights\n",
        "\n",
        "If you have a tensorflow model you want to use Ganspace on - convert it to a pytorch model below.\n",
        "\n",
        "(skip this step if you already have a pytorch model)"
      ]
    },
    {
      "cell_type": "code",
      "metadata": {
        "id": "0c32G3UvnFaV",
        "outputId": "be3df35b-ebe9-4fc0-8fde-785f27a19319",
        "colab": {
          "base_uri": "https://localhost:8080/",
          "height": 90
        }
      },
      "source": [
        "# Reference: https://drive.google.com/file/d/1HXczmPE4PMBbhrPOshshnS0KFI4J6jbC/view?usp=sharing\n",
        "!gdown --id 1HXczmPE4PMBbhrPOshshnS0KFI4J6jbC -O /content/steam.pkl"
      ],
      "execution_count": null,
      "outputs": [
        {
          "output_type": "stream",
          "text": [
            "Downloading...\n",
            "From: https://drive.google.com/uc?id=1HXczmPE4PMBbhrPOshshnS0KFI4J6jbC\n",
            "To: /content/steam.pkl\n",
            "296MB [00:02, 107MB/s]\n"
          ],
          "name": "stdout"
        }
      ]
    },
    {
      "cell_type": "code",
      "metadata": {
        "id": "tQcivtikdOsC",
        "outputId": "51e3b1cd-832c-44df-b6e2-96abc337e319",
        "colab": {
          "base_uri": "https://localhost:8080/",
          "height": 127
        }
      },
      "source": [
        "%cd '/content/'\n",
        "!git clone https://github.com/skyflynil/stylegan2"
      ],
      "execution_count": null,
      "outputs": [
        {
          "output_type": "stream",
          "text": [
            "/content\n",
            "Cloning into 'stylegan2'...\n",
            "remote: Enumerating objects: 219, done.\u001b[K\n",
            "remote: Total 219 (delta 0), reused 0 (delta 0), pack-reused 219\u001b[K\n",
            "Receiving objects: 100% (219/219), 2.29 MiB | 30.09 MiB/s, done.\n",
            "Resolving deltas: 100% (120/120), done.\n"
          ],
          "name": "stdout"
        }
      ]
    },
    {
      "cell_type": "markdown",
      "metadata": {
        "id": "tQPsNKq9n2pI"
      },
      "source": [
        "The convert weight script takes two arguments: \n",
        "\n",
        "```\n",
        "--repo - Path to tensorflow stylegan2 repo\n",
        "       - Path to your model\n",
        "```\n",
        "\n"
      ]
    },
    {
      "cell_type": "code",
      "metadata": {
        "id": "Pdkk4vyXtrNh",
        "outputId": "d988900e-8394-4316-a15b-ff8688569c91",
        "colab": {
          "base_uri": "https://localhost:8080/",
          "height": 72
        }
      },
      "source": [
        "%cd /content/ganspace/\n",
        "!python models/stylegan2/stylegan2-pytorch/convert_weight.py --repo=\"/content/stylegan2/\" --channel_multiplier=1 \"/content/steam.pkl\" #convert weights"
      ],
      "execution_count": null,
      "outputs": [
        {
          "output_type": "stream",
          "text": [
            "/content/ganspace\n",
            "Setting up TensorFlow plugin \"fused_bias_act.cu\": Preprocessing... Compiling... Loading... Done.\n",
            "Setting up TensorFlow plugin \"upfirdn_2d.cu\": Preprocessing... Compiling... Loading... Done.\n"
          ],
          "name": "stdout"
        }
      ]
    },
    {
      "cell_type": "markdown",
      "metadata": {
        "id": "vhVTzEZjrdFv"
      },
      "source": [
        "# Run PCA Analysis"
      ]
    },
    {
      "cell_type": "code",
      "metadata": {
        "id": "AGTY0XmaIfz_",
        "outputId": "73808bce-4f31-410c-8b2f-316716b23782",
        "colab": {
          "base_uri": "https://localhost:8080/",
          "height": 35
        }
      },
      "source": [
        "%cd /content/ganspace/"
      ],
      "execution_count": null,
      "outputs": [
        {
          "output_type": "stream",
          "text": [
            "/content/ganspace\n"
          ],
          "name": "stdout"
        }
      ]
    },
    {
      "cell_type": "code",
      "metadata": {
        "id": "AglcMDAUt-mm"
      },
      "source": [
        "model_name = 'StyleGAN2' \n",
        "model_class = 'steam' #this is the name of your model in the configs\n",
        "num_components = 80"
      ],
      "execution_count": null,
      "outputs": []
    },
    {
      "cell_type": "code",
      "metadata": {
        "id": "Xwajnkm6OxYt"
      },
      "source": [
        "%cp /content/ganspace/steam.pt /content/ganspace/models/checkpoints/stylegan2/stylegan2_steam_256.pt"
      ],
      "execution_count": null,
      "outputs": []
    },
    {
      "cell_type": "markdown",
      "metadata": {
        "id": "sTa6PeLpwCUx"
      },
      "source": [
        "Reference: https://github.com/harskish/ganspace"
      ]
    },
    {
      "cell_type": "markdown",
      "metadata": {
        "id": "7GggN36LpSgo"
      },
      "source": [
        "##Options\n",
        "\n",
        "\n",
        "```\n",
        "Command line paramaters:\n",
        "  --model      one of [ProGAN, BigGAN-512, BigGAN-256, BigGAN-128, StyleGAN, StyleGAN2]\n",
        "  --class      class name; leave empty to list options\n",
        "  --layer      layer at which to perform PCA; leave empty to list options\n",
        "  --use_w      treat W as the main latent space (StyleGAN / StyleGAN2)\n",
        "  --inputs     load previously exported edits from directory\n",
        "  --sigma      number of stdevs to use in visualize.py\n",
        "  -n           number of PCA samples\n",
        "  -b           override automatic minibatch size detection\n",
        "  -c           number of components to keep\n",
        "\n",
        "```\n",
        "\n",
        "\n"
      ]
    },
    {
      "cell_type": "code",
      "metadata": {
        "id": "7RmHtfgdomsx",
        "cellView": "both",
        "outputId": "0bce4f74-8f14-4408-bf11-ec3200bd0bb5",
        "colab": {
          "base_uri": "https://localhost:8080/",
          "height": 1000
        }
      },
      "source": [
        "#Check layers available for analysis\n",
        "!python visualize.py --model $model_name --class $model_class --use_w"
      ],
      "execution_count": null,
      "outputs": [
        {
          "output_type": "stream",
          "text": [
            "[21.09 18:42] StyleGAN2, g_mapping, ipca\n",
            "Layer 'g_mapping' not found in model!\n",
            "Available layers: \n",
            "style\n",
            "style.0\n",
            "style.1\n",
            "style.2\n",
            "style.3\n",
            "style.4\n",
            "style.5\n",
            "style.6\n",
            "style.7\n",
            "style.8\n",
            "input\n",
            "conv1\n",
            "conv1.conv\n",
            "conv1.conv.modulation\n",
            "conv1.noise\n",
            "conv1.activate\n",
            "to_rgb1\n",
            "to_rgb1.conv\n",
            "to_rgb1.conv.modulation\n",
            "convs\n",
            "convs.0\n",
            "convs.0.conv\n",
            "convs.0.conv.blur\n",
            "convs.0.conv.modulation\n",
            "convs.0.noise\n",
            "convs.0.activate\n",
            "convs.1\n",
            "convs.1.conv\n",
            "convs.1.conv.modulation\n",
            "convs.1.noise\n",
            "convs.1.activate\n",
            "convs.2\n",
            "convs.2.conv\n",
            "convs.2.conv.blur\n",
            "convs.2.conv.modulation\n",
            "convs.2.noise\n",
            "convs.2.activate\n",
            "convs.3\n",
            "convs.3.conv\n",
            "convs.3.conv.modulation\n",
            "convs.3.noise\n",
            "convs.3.activate\n",
            "convs.4\n",
            "convs.4.conv\n",
            "convs.4.conv.blur\n",
            "convs.4.conv.modulation\n",
            "convs.4.noise\n",
            "convs.4.activate\n",
            "convs.5\n",
            "convs.5.conv\n",
            "convs.5.conv.modulation\n",
            "convs.5.noise\n",
            "convs.5.activate\n",
            "convs.6\n",
            "convs.6.conv\n",
            "convs.6.conv.blur\n",
            "convs.6.conv.modulation\n",
            "convs.6.noise\n",
            "convs.6.activate\n",
            "convs.7\n",
            "convs.7.conv\n",
            "convs.7.conv.modulation\n",
            "convs.7.noise\n",
            "convs.7.activate\n",
            "convs.8\n",
            "convs.8.conv\n",
            "convs.8.conv.blur\n",
            "convs.8.conv.modulation\n",
            "convs.8.noise\n",
            "convs.8.activate\n",
            "convs.9\n",
            "convs.9.conv\n",
            "convs.9.conv.modulation\n",
            "convs.9.noise\n",
            "convs.9.activate\n",
            "convs.10\n",
            "convs.10.conv\n",
            "convs.10.conv.blur\n",
            "convs.10.conv.modulation\n",
            "convs.10.noise\n",
            "convs.10.activate\n",
            "convs.11\n",
            "convs.11.conv\n",
            "convs.11.conv.modulation\n",
            "convs.11.noise\n",
            "convs.11.activate\n",
            "upsamples\n",
            "to_rgbs\n",
            "to_rgbs.0\n",
            "to_rgbs.0.upsample\n",
            "to_rgbs.0.conv\n",
            "to_rgbs.0.conv.modulation\n",
            "to_rgbs.1\n",
            "to_rgbs.1.upsample\n",
            "to_rgbs.1.conv\n",
            "to_rgbs.1.conv.modulation\n",
            "to_rgbs.2\n",
            "to_rgbs.2.upsample\n",
            "to_rgbs.2.conv\n",
            "to_rgbs.2.conv.modulation\n",
            "to_rgbs.3\n",
            "to_rgbs.3.upsample\n",
            "to_rgbs.3.conv\n",
            "to_rgbs.3.conv.modulation\n",
            "to_rgbs.4\n",
            "to_rgbs.4.upsample\n",
            "to_rgbs.4.conv\n",
            "to_rgbs.4.conv.modulation\n",
            "to_rgbs.5\n",
            "to_rgbs.5.upsample\n",
            "to_rgbs.5.conv\n",
            "to_rgbs.5.conv.modulation\n",
            "noises\n",
            "strided_style\n",
            "strided_style.0\n",
            "strided_style.1\n",
            "strided_style.2\n",
            "strided_style.3\n",
            "strided_style.4\n",
            "strided_style.5\n",
            "strided_style.6\n",
            "strided_style.7\n",
            "strided_style.8\n",
            "strided_style.9\n",
            "strided_style.10\n",
            "strided_style.11\n",
            "strided_style.12\n",
            "strided_style.13\n",
            "Traceback (most recent call last):\n",
            "  File \"visualize.py\", line 152, in <module>\n",
            "    inst = get_instrumented_model(args.model, args.output_class, layer_key, device, use_w=args.use_w)\n",
            "  File \"/usr/lib/python3.6/functools.py\", line 807, in wrapper\n",
            "    return dispatch(args[0].__class__)(*args, **kw)\n",
            "  File \"/content/ganspace/models/wrappers.py\", line 717, in get_instrumented_model\n",
            "    raise RuntimeError(f\"Unknown layer '{layer_name}''\")\n",
            "RuntimeError: Unknown layer 'g_mapping''\n"
          ],
          "name": "stdout"
        }
      ]
    },
    {
      "cell_type": "markdown",
      "metadata": {
        "id": "iwoyJLamjciq"
      },
      "source": [
        "Add chosen layer in as --layer argument:"
      ]
    },
    {
      "cell_type": "code",
      "metadata": {
        "id": "D41v8w25l0j8",
        "outputId": "4b4ae498-7a0d-4915-c223-42d7c8e93ec6",
        "colab": {
          "base_uri": "https://localhost:8080/",
          "height": 678
        }
      },
      "source": [
        "!python visualize.py --model $model_name --class $model_class --use_w --layer=style -c $num_components"
      ],
      "execution_count": null,
      "outputs": [
        {
          "output_type": "stream",
          "text": [
            "[21.09 17:41] StyleGAN2, style, ipca\n",
            "Feature shape: torch.Size([1, 512])\n",
            "Not cached\n",
            "[21.09 17:41] Computing stylegan2-steam_style_ipca_c80_n300000_w.npz\n",
            "Reusing InstrumentedModel instance\n",
            "Using W latent space\n",
            "Feature shape: torch.Size([1, 512])\n",
            "/usr/local/lib/python3.6/dist-packages/torch/cuda/memory.py:260: FutureWarning: torch.cuda.reset_max_memory_cached now calls torch.cuda.reset_peak_memory_stats, which resets /all/ peak memory stats.\n",
            "  FutureWarning)\n",
            "/usr/local/lib/python3.6/dist-packages/torch/cuda/memory.py:234: FutureWarning: torch.cuda.reset_max_memory_allocated now calls torch.cuda.reset_peak_memory_stats, which resets /all/ peak memory stats.\n",
            "  FutureWarning)\n",
            "B=20, N=300000, dims=512, N/dims=585.9\n",
            "Sampling latents: 100% 15100/15100 [00:30<00:00, 499.27it/s]\n",
            "Fitting batches (NB=2000): 100% 150/150 [00:46<00:00,  3.25it/s]\n",
            "Total time: 0:01:16.986872\n",
            "/usr/local/lib/python3.6/dist-packages/torch/cuda/memory.py:260: FutureWarning: torch.cuda.reset_max_memory_cached now calls torch.cuda.reset_peak_memory_stats, which resets /all/ peak memory stats.\n",
            "  FutureWarning)\n",
            "/usr/local/lib/python3.6/dist-packages/torch/cuda/memory.py:234: FutureWarning: torch.cuda.reset_max_memory_allocated now calls torch.cuda.reset_peak_memory_stats, which resets /all/ peak memory stats.\n",
            "  FutureWarning)\n",
            "Batch size: 20\n",
            "[21.09 17:42] Creating visualizations\n",
            "Sparsity: 0.00\n",
            "<Figure size 1400x1200 with 14 Axes>\n",
            "<Figure size 1400x1200 with 14 Axes>\n",
            "Random images:   0% 0/10 [00:00<?, ?it/s]<Figure size 1400x1200 with 14 Axes>\n",
            "Random images:  10% 1/10 [00:03<00:34,  3.86s/it]<Figure size 1400x1200 with 14 Axes>\n",
            "Random images:  20% 2/10 [00:07<00:30,  3.82s/it]<Figure size 1400x1200 with 14 Axes>\n",
            "Random images:  30% 3/10 [00:11<00:26,  3.82s/it]<Figure size 1400x1200 with 14 Axes>\n",
            "Random images:  40% 4/10 [00:15<00:22,  3.79s/it]<Figure size 1400x1200 with 14 Axes>\n",
            "Random images:  50% 5/10 [00:18<00:18,  3.76s/it]<Figure size 1400x1200 with 14 Axes>\n",
            "Random images:  60% 6/10 [00:22<00:15,  3.81s/it]<Figure size 1400x1200 with 14 Axes>\n",
            "Random images:  70% 7/10 [00:26<00:11,  3.80s/it]<Figure size 1400x1200 with 14 Axes>\n",
            "Random images:  80% 8/10 [00:30<00:07,  3.84s/it]<Figure size 1400x1200 with 14 Axes>\n",
            "Random images:  90% 9/10 [00:34<00:03,  3.81s/it]<Figure size 1400x1200 with 14 Axes>\n",
            "Random images: 100% 10/10 [00:38<00:00,  3.81s/it]\n",
            "Done in 0:02:36.946314\n"
          ],
          "name": "stdout"
        }
      ]
    },
    {
      "cell_type": "code",
      "metadata": {
        "id": "4uSCkh4OAqOU",
        "outputId": "6d08805c-4d88-42ae-a2fe-504fd040839c",
        "colab": {
          "base_uri": "https://localhost:8080/",
          "height": 146
        }
      },
      "source": [
        "!python visualize.py --model=$model_name --class=$model_class --use_w --layer=\"style\" -b=500 --batch --video #add -video to generate videos"
      ],
      "execution_count": null,
      "outputs": [
        {
          "output_type": "stream",
          "text": [
            "[21.09 17:43] StyleGAN2, style, ipca\n",
            "Feature shape: torch.Size([1, 512])\n",
            "Batch size: 500\n",
            "[21.09 17:43] Creating visualizations\n",
            "Sparsity: 0.00\n",
            "Random images: 100% 10/10 [11:00<00:00, 66.05s/it]\n",
            "Done in 0:14:06.259958\n"
          ],
          "name": "stdout"
        }
      ]
    },
    {
      "cell_type": "code",
      "metadata": {
        "id": "0Vf0BDQMIVPi",
        "outputId": "bbaaca99-bc27-41d7-dca9-53b6fb10f619",
        "colab": {
          "base_uri": "https://localhost:8080/",
          "height": 550
        }
      },
      "source": [
        "!python visualize.py --model=StyleGAN2 --class=ffhq --use_w --layer=style -b=10000"
      ],
      "execution_count": null,
      "outputs": [
        {
          "output_type": "stream",
          "text": [
            "[21.09 17:57] StyleGAN2, style, ipca\n",
            "Downloading https://drive.google.com/uc?export=download&id=1FJRwzAkV-XWbxgTwxEmEACvuqF5DsBiV\n",
            "Feature shape: torch.Size([1, 512])\n",
            "Not cached\n",
            "[21.09 17:58] Computing stylegan2-ffhq_style_ipca_c80_n300000_w.npz\n",
            "Reusing InstrumentedModel instance\n",
            "Using W latent space\n",
            "Feature shape: torch.Size([1, 512])\n",
            "B=10000, N=300000, dims=512, N/dims=585.9\n",
            "Sampling latents: 100% 31/31 [00:07<00:00,  4.02it/s]\n",
            "Fitting batches (NB=10000): 100% 30/30 [00:29<00:00,  1.02it/s]\n",
            "Total time: 0:00:37.560743\n",
            "Batch size: 10000\n",
            "[21.09 17:58] Creating visualizations\n",
            "Sparsity: 0.00\n",
            "<Figure size 1400x1200 with 14 Axes>\n",
            "<Figure size 1400x1200 with 14 Axes>\n",
            "Random images:   0% 0/10 [00:00<?, ?it/s]<Figure size 1400x1200 with 14 Axes>\n",
            "Random images:  10% 1/10 [00:18<02:45, 18.42s/it]<Figure size 1400x1200 with 14 Axes>\n",
            "Random images:  20% 2/10 [00:37<02:28, 18.56s/it]<Figure size 1400x1200 with 14 Axes>\n",
            "Random images:  30% 3/10 [00:55<02:09, 18.53s/it]<Figure size 1400x1200 with 14 Axes>\n",
            "Random images:  40% 4/10 [01:13<01:50, 18.40s/it]<Figure size 1400x1200 with 14 Axes>\n",
            "Random images:  50% 5/10 [01:31<01:30, 18.17s/it]<Figure size 1400x1200 with 14 Axes>\n",
            "Random images:  60% 6/10 [01:49<01:12, 18.09s/it]<Figure size 1400x1200 with 14 Axes>\n",
            "Random images:  70% 7/10 [02:07<00:54, 18.00s/it]<Figure size 1400x1200 with 14 Axes>\n",
            "Random images:  80% 8/10 [02:25<00:36, 18.06s/it]<Figure size 1400x1200 with 14 Axes>\n",
            "Random images:  90% 9/10 [02:43<00:18, 18.07s/it]<Figure size 1400x1200 with 14 Axes>\n",
            "Random images: 100% 10/10 [03:01<00:00, 18.12s/it]\n",
            "Done in 0:04:29.585815\n"
          ],
          "name": "stdout"
        }
      ]
    },
    {
      "cell_type": "code",
      "metadata": {
        "id": "JW_I1n1DMMEO",
        "outputId": "28cbf875-d786-4142-8f26-1832a7711dd5",
        "colab": {
          "base_uri": "https://localhost:8080/",
          "height": 348
        }
      },
      "source": [
        "!zip -r samples.zip \"/content/ganspace/out/StyleGAN2-ffhq\" #zip up samples for download"
      ],
      "execution_count": null,
      "outputs": [
        {
          "output_type": "stream",
          "text": [
            "  adding: content/ganspace/out/StyleGAN2-ffhq/ (stored 0%)\n",
            "  adding: content/ganspace/out/StyleGAN2-ffhq/style/ (stored 0%)\n",
            "  adding: content/ganspace/out/StyleGAN2-ffhq/style/ipca/ (stored 0%)\n",
            "  adding: content/ganspace/out/StyleGAN2-ffhq/style/ipca/inst/ (stored 0%)\n",
            "  adding: content/ganspace/out/StyleGAN2-ffhq/style/ipca/comp/ (stored 0%)\n",
            "  adding: content/ganspace/out/StyleGAN2-ffhq/style/ipca/summ/ (stored 0%)\n",
            "  adding: content/ganspace/out/StyleGAN2-ffhq/style/ipca/summ/samp1_real_W.jpg (deflated 3%)\n",
            "  adding: content/ganspace/out/StyleGAN2-ffhq/style/ipca/summ/samp7_real_W.jpg (deflated 3%)\n",
            "  adding: content/ganspace/out/StyleGAN2-ffhq/style/ipca/summ/samp2_real_W.jpg (deflated 4%)\n",
            "  adding: content/ganspace/out/StyleGAN2-ffhq/style/ipca/summ/samp8_real_W.jpg (deflated 4%)\n",
            "  adding: content/ganspace/out/StyleGAN2-ffhq/style/ipca/summ/samp3_real_W.jpg (deflated 4%)\n",
            "  adding: content/ganspace/out/StyleGAN2-ffhq/style/ipca/summ/random_dirs_W.jpg (deflated 4%)\n",
            "  adding: content/ganspace/out/StyleGAN2-ffhq/style/ipca/summ/samp0_real_W.jpg (deflated 3%)\n",
            "  adding: content/ganspace/out/StyleGAN2-ffhq/style/ipca/summ/samp5_real_W.jpg (deflated 4%)\n",
            "  adding: content/ganspace/out/StyleGAN2-ffhq/style/ipca/summ/components_W.jpg (deflated 4%)\n",
            "  adding: content/ganspace/out/StyleGAN2-ffhq/style/ipca/summ/samp6_real_W.jpg (deflated 3%)\n",
            "  adding: content/ganspace/out/StyleGAN2-ffhq/style/ipca/summ/samp9_real_W.jpg (deflated 4%)\n",
            "  adding: content/ganspace/out/StyleGAN2-ffhq/style/ipca/summ/samp4_real_W.jpg (deflated 4%)\n"
          ],
          "name": "stdout"
        }
      ]
    },
    {
      "cell_type": "code",
      "metadata": {
        "id": "p3VtzN6U2jpD"
      },
      "source": [
        "%cd /content/ganspace/\n",
        "!tar -cf StyleGAN2-steam.tar.gz out/StyleGAN2-steam/"
      ],
      "execution_count": null,
      "outputs": []
    },
    {
      "cell_type": "markdown",
      "metadata": {
        "id": "m7TDzlXCHe59"
      },
      "source": [
        "# Explore Directions!"
      ]
    },
    {
      "cell_type": "code",
      "metadata": {
        "id": "gs6GpTJR7oXd",
        "outputId": "6c6f1992-c557-421e-ef34-08c906fa89c3",
        "colab": {
          "base_uri": "https://localhost:8080/",
          "height": 349
        }
      },
      "source": [
        "!python visualize.py \\\n",
        " --model StyleGAN2 \\\n",
        " --class steam \\\n",
        " --layer style \\\n",
        " --use_w \\\n",
        " -n 1_000_000 \\\n",
        " -b 10_000 \\\n",
        " --batch \\\n",
        " --video"
      ],
      "execution_count": null,
      "outputs": [
        {
          "output_type": "stream",
          "text": [
            "[21.09 18:44] StyleGAN2, style, ipca\n",
            "Feature shape: torch.Size([1, 512])\n",
            "Not cached\n",
            "[21.09 18:44] Computing stylegan2-steam_style_ipca_c80_n1000000_w.npz\n",
            "Reusing InstrumentedModel instance\n",
            "Using W latent space\n",
            "Feature shape: torch.Size([1, 512])\n",
            "B=10000, N=1000000, dims=512, N/dims=1953.1\n",
            "tcmalloc: large alloc 2068480000 bytes == 0xbd358000 @  0x7fde4abcf001 0x7fddfe552765 0x7fddfe5b6bb0 0x7fddfe5b8a4f 0x7fddfe64f048 0x50a7f5 0x50cfd6 0x509918 0x50a64d 0x50c1f4 0x507f24 0x509c50 0x50a64d 0x50c1f4 0x507f24 0x509c50 0x50a64d 0x50c1f4 0x507f24 0x50b053 0x634dd2 0x634e87 0x63863f 0x6391e1 0x4b0dc0 0x7fde4a7cab97 0x5b26fa\n",
            "Sampling latents: 100% 101/101 [00:27<00:00,  3.67it/s]\n",
            "Fitting batches (NB=10000): 100% 100/100 [01:52<00:00,  1.13s/it]\n",
            "Total time: 0:02:21.828287\n",
            "Batch size: 10000\n",
            "[21.09 18:47] Creating visualizations\n",
            "Sparsity: 0.00\n",
            "Random images: 100% 10/10 [11:52<00:00, 71.29s/it]\n",
            "Done in 0:17:37.030068\n"
          ],
          "name": "stdout"
        }
      ]
    },
    {
      "cell_type": "code",
      "metadata": {
        "id": "GbHcFs6_Nrm6",
        "outputId": "5445ee3a-f34d-4a67-b4e5-84a0d513ddcd",
        "colab": {
          "base_uri": "https://localhost:8080/",
          "height": 476
        }
      },
      "source": [
        "!pip install pycuda"
      ],
      "execution_count": null,
      "outputs": [
        {
          "output_type": "stream",
          "text": [
            "Collecting pycuda\n",
            "\u001b[?25l  Downloading https://files.pythonhosted.org/packages/5e/3f/5658c38579b41866ba21ee1b5020b8225cec86fe717e4b1c5c972de0a33c/pycuda-2019.1.2.tar.gz (1.6MB)\n",
            "\u001b[K     |████████████████████████████████| 1.6MB 5.3MB/s \n",
            "\u001b[?25hCollecting pytools>=2011.2\n",
            "\u001b[?25l  Downloading https://files.pythonhosted.org/packages/73/d5/989a1d2bba90f5c085e4929a4b703bbd8cc6b4a4218f1671fadab2abe966/pytools-2020.4.tar.gz (67kB)\n",
            "\u001b[K     |████████████████████████████████| 71kB 1.8MB/s \n",
            "\u001b[?25hRequirement already satisfied: decorator>=3.2.0 in /usr/local/lib/python3.6/dist-packages (from pycuda) (4.4.2)\n",
            "Collecting appdirs>=1.4.0\n",
            "  Downloading https://files.pythonhosted.org/packages/3b/00/2344469e2084fb287c2e0b57b72910309874c3245463acd6cf5e3db69324/appdirs-1.4.4-py2.py3-none-any.whl\n",
            "Collecting mako\n",
            "\u001b[?25l  Downloading https://files.pythonhosted.org/packages/a6/37/0e706200d22172eb8fa17d68a7ae22dec7631a0a92266634fb518a88a5b2/Mako-1.1.3-py2.py3-none-any.whl (75kB)\n",
            "\u001b[K     |████████████████████████████████| 81kB 10.6MB/s \n",
            "\u001b[?25hRequirement already satisfied: six>=1.8.0 in /usr/local/lib/python3.6/dist-packages (from pytools>=2011.2->pycuda) (1.15.0)\n",
            "Requirement already satisfied: numpy>=1.6.0 in /usr/local/lib/python3.6/dist-packages (from pytools>=2011.2->pycuda) (1.18.5)\n",
            "Requirement already satisfied: MarkupSafe>=0.9.2 in /usr/local/lib/python3.6/dist-packages (from mako->pycuda) (1.1.1)\n",
            "Building wheels for collected packages: pycuda, pytools\n",
            "  Building wheel for pycuda (setup.py) ... \u001b[?25l\u001b[?25hdone\n",
            "  Created wheel for pycuda: filename=pycuda-2019.1.2-cp36-cp36m-linux_x86_64.whl size=4535399 sha256=f53968ba01e256c935e3a8007a58d7d4fb026381bba521352d1c34e9c04519ea\n",
            "  Stored in directory: /root/.cache/pip/wheels/a6/60/f0/b1c430c73d281ac3e46070480db50f7907364eb6f6d3188396\n",
            "  Building wheel for pytools (setup.py) ... \u001b[?25l\u001b[?25hdone\n",
            "  Created wheel for pytools: filename=pytools-2020.4-py2.py3-none-any.whl size=67175 sha256=71393f988b02bccc19465da25a10f0b809238e356ee22b0ddf4449d82efeddfb\n",
            "  Stored in directory: /root/.cache/pip/wheels/5e/20/0b/fac51840734b2587ecc239a62522b164c374e929e2c9be66c5\n",
            "Successfully built pycuda pytools\n",
            "Installing collected packages: appdirs, pytools, mako, pycuda\n",
            "Successfully installed appdirs-1.4.4 mako-1.1.3 pycuda-2019.1.2 pytools-2020.4\n"
          ],
          "name": "stdout"
        }
      ]
    },
    {
      "cell_type": "markdown",
      "metadata": {
        "id": "aRJ1li2V537d"
      },
      "source": [
        "```\n",
        "Command line paramaters:\n",
        "  --model      one of [ProGAN, BigGAN-512, BigGAN-256, BigGAN-128, StyleGAN, StyleGAN2]\n",
        "  --class      class name; leave empty to list options\n",
        "  --layer      layer at which to perform PCA; leave empty to list options\n",
        "  --use_w      treat W as the main latent space (StyleGAN / StyleGAN2)\n",
        "  --inputs     load previously exported edits from directory\n",
        "  --sigma      number of stdevs to use in visualize.py\n",
        "  -n           number of PCA samples\n",
        "  -b           override automatic minibatch size detection\n",
        "  -c           number of components to keep\n",
        "\n",
        "```"
      ]
    },
    {
      "cell_type": "markdown",
      "metadata": {
        "id": "Y9_fWV-NpuLA"
      },
      "source": [
        "After running visualize.py, your components will be stored in an npz file in /content/ganspace/cache/components/ - below the npz file is unpacked, and a component/direction is chosen at random. \n",
        "\n",
        "Using the UI, you can explore the latent direction and give it a name, which will be appeneded to the named_directions dictionary and saved as 'direction_name.npy' for later use.\n"
      ]
    },
    {
      "cell_type": "code",
      "metadata": {
        "id": "rD24fpCcHnyV"
      },
      "source": [
        "# Load model\n",
        "from IPython.utils import io\n",
        "import torch\n",
        "import PIL\n",
        "import numpy as np\n",
        "import ipywidgets as widgets\n",
        "from PIL import Image\n",
        "import imageio\n",
        "from models import get_instrumented_model\n",
        "from decomposition import get_or_compute\n",
        "from config import Config\n",
        "from skimage import img_as_ubyte\n",
        "\n",
        "# Speed up computation\n",
        "torch.autograd.set_grad_enabled(False)\n",
        "torch.backends.cudnn.benchmark = True\n",
        "\n",
        "# Specify model to use\n",
        "config = Config(\n",
        "  model='StyleGAN2',\n",
        "  output_class='steam',\n",
        "  layer='style',\n",
        "  use_w=True,\n",
        "  components=80,\n",
        "  batch_size=5_000, # style layer quite small\n",
        ")\n",
        "\n",
        "inst = get_instrumented_model(config.model, config.output_class,\n",
        "                              config.layer, torch.device('cuda'), use_w=config.use_w)\n",
        "\n",
        "path_to_components = get_or_compute(config, inst)\n",
        "\n",
        "model = inst.model\n",
        "\n",
        "named_directions = {} #init named_directions dict to save directions"
      ],
      "execution_count": null,
      "outputs": []
    },
    {
      "cell_type": "code",
      "metadata": {
        "id": "vQZFzm88t-t3",
        "cellView": "both",
        "outputId": "01f915ab-ea9a-4cca-bc13-6c1ec51462b5",
        "colab": {
          "base_uri": "https://localhost:8080/",
          "height": 35
        }
      },
      "source": [
        "# Select a component at random\n",
        "component_num = np.random.randint(num_components)\n",
        "print(component_num)"
      ],
      "execution_count": null,
      "outputs": [
        {
          "output_type": "stream",
          "text": [
            "8\n"
          ],
          "name": "stdout"
        }
      ]
    },
    {
      "cell_type": "code",
      "metadata": {
        "id": "7zVX3bdEuIx8"
      },
      "source": [
        "# or select one manually\n",
        "component_num = 2"
      ],
      "execution_count": null,
      "outputs": []
    },
    {
      "cell_type": "code",
      "metadata": {
        "id": "E8NFoXruGy_C",
        "cellView": "form",
        "outputId": "d83f587d-6aa2-453d-d3a3-f87dda1c02f4",
        "colab": {
          "base_uri": "https://localhost:8080/",
          "height": 35
        }
      },
      "source": [
        "#@title Load component\n",
        "\n",
        "comps = np.load(path_to_components)\n",
        "lst = comps.files\n",
        "latent_dirs = []\n",
        "latent_stdevs = []\n",
        "\n",
        "load_activations = False\n",
        "\n",
        "for item in lst:\n",
        "    if load_activations:\n",
        "      if item == 'act_comp':\n",
        "        for i in range(comps[item].shape[0]):\n",
        "          latent_dirs.append(comps[item][i])\n",
        "      if item == 'act_stdev':\n",
        "        for i in range(comps[item].shape[0]):\n",
        "          latent_stdevs.append(comps[item][i])\n",
        "    else:\n",
        "      if item == 'lat_comp':\n",
        "        for i in range(comps[item].shape[0]):\n",
        "          latent_dirs.append(comps[item][i])\n",
        "      if item == 'lat_stdev':\n",
        "        for i in range(comps[item].shape[0]):\n",
        "          latent_stdevs.append(comps[item][i])\n",
        "            \n",
        "#load one at random \n",
        "if component_num in named_directions.values():\n",
        "  print(f'Direction already named: {list(named_directions.keys())[list(named_directions.values()).index(num)]}')\n",
        "\n",
        "random_dir = latent_dirs[component_num]\n",
        "random_dir_stdev = latent_stdevs[component_num]\n",
        "\n",
        "print(f'Loaded Component No. {component_num}')\n"
      ],
      "execution_count": null,
      "outputs": [
        {
          "output_type": "stream",
          "text": [
            "Loaded Component No. 2\n"
          ],
          "name": "stdout"
        }
      ]
    },
    {
      "cell_type": "code",
      "metadata": {
        "id": "wJytqjrVwZ7K",
        "cellView": "form",
        "outputId": "4816c94c-2bb3-4477-b6dc-e607f266450f",
        "colab": {
          "base_uri": "https://localhost:8080/",
          "height": 550,
          "referenced_widgets": [
            "13e7570fb7d545b3bf0521e22456ac77",
            "4de9285356674dbd9490ce1336b569c3",
            "c10f144a48ae4b25a392244a18e92189",
            "7123bc81841f42e386e1a4a9847c7e71",
            "450a6ac7819d43318f6e9cb1c4644675",
            "3c3e8a3088e94f28b7b0beb715f49227",
            "3f21599b7edc4b608e95b06b247fc06a",
            "f6590d0d510a450d9e4f6ed173fe134e",
            "570b9ad51f894429a199ba5a26283f67",
            "63762235dc744d368d4e586101f331b4",
            "4bda6cf0c124482bb7acb817de2c5216",
            "dfeb6de7cb784f6686f91e1658f2382a",
            "0834a2e184a340aa9e267e7a8da8374d",
            "2df03c63ebf04a11bf68c2d546d8351a",
            "101ee9d5d9b44a579f2c3a6901d4ee1e",
            "1df882ebf9d64279a86f32bf1256dd52",
            "83d86d2f6a8943b09ba95eba5e72d6aa",
            "35b69dc02bf94536944b2c2a55e53acb",
            "5e508cff556a4596a3ecdc86598346c6",
            "e833c9c5d3d147cdbd1520d21f551179",
            "8d2d321fd6a5408da70b36bd1d840090",
            "c601a377acd2424fba73fdedbc6aad57",
            "38f1c1c58b4440e2add901594ddc71fc",
            "b7266bfbce124638b0326a0f5de1c427",
            "9beae981ec1547019cd7069e39040fd7",
            "f6df1c13e7184bc59939e1f826cb1493",
            "46fc6b81b7ce4b39ae2acd155f59da79"
          ]
        }
      },
      "source": [
        "#@title Run UI\n",
        "from ipywidgets import fixed\n",
        "\n",
        "# Taken from https://github.com/alexanderkuk/log-progress\n",
        "def log_progress(sequence, every=1, size=None, name='Items'):\n",
        "    from ipywidgets import IntProgress, HTML, VBox\n",
        "    from IPython.display import display\n",
        "\n",
        "    is_iterator = False\n",
        "    if size is None:\n",
        "        try:\n",
        "            size = len(sequence)\n",
        "        except TypeError:\n",
        "            is_iterator = True\n",
        "    if size is not None:\n",
        "        if every is None:\n",
        "            if size <= 200:\n",
        "                every = 1\n",
        "            else:\n",
        "                every = int(size / 200)     # every 0.5%\n",
        "    else:\n",
        "        assert every is not None, 'sequence is iterator, set every'\n",
        "\n",
        "    if is_iterator:\n",
        "        progress = IntProgress(min=0, max=1, value=1)\n",
        "        progress.bar_style = 'info'\n",
        "    else:\n",
        "        progress = IntProgress(min=0, max=size, value=0)\n",
        "    label = HTML()\n",
        "    box = VBox(children=[label, progress])\n",
        "    display(box)\n",
        "\n",
        "    index = 0\n",
        "    try:\n",
        "        for index, record in enumerate(sequence, 1):\n",
        "            if index == 1 or index % every == 0:\n",
        "                if is_iterator:\n",
        "                    label.value = '{name}: {index} / ?'.format(\n",
        "                        name=name,\n",
        "                        index=index\n",
        "                    )\n",
        "                else:\n",
        "                    progress.value = index\n",
        "                    label.value = u'{name}: {index} / {size}'.format(\n",
        "                        name=name,\n",
        "                        index=index,\n",
        "                        size=size\n",
        "                    )\n",
        "            yield record\n",
        "    except:\n",
        "        progress.bar_style = 'danger'\n",
        "        raise\n",
        "    else:\n",
        "        progress.bar_style = 'success'\n",
        "        progress.value = index\n",
        "        label.value = \"{name}: {index}\".format(\n",
        "            name=name,\n",
        "            index=str(index or '?')\n",
        "        )\n",
        "\n",
        "def name_direction(sender):\n",
        "  if component_num in named_directions.values():\n",
        "    target_key = list(named_directions.keys())[list(named_directions.values()).index(component_num)]\n",
        "    print(f'Direction already named: {target_key}')\n",
        "    print(f'Overwriting... ')\n",
        "    del(named_directions[target_key])\n",
        "  named_directions[text.value] = [component_num, start_layer.value, end_layer.value]\n",
        "  save_direction(random_dir, text.value)\n",
        "  for item in named_directions:\n",
        "    print(item, named_directions[item])\n",
        "\n",
        "def save_direction(direction, filename):\n",
        "  dn = filename\n",
        "  filename += f'_layers_{start_layer.value}_{end_layer.value}' + \".npy\"\n",
        "  filename = \"out/directions/\" + filename\n",
        "\n",
        "  np.save(filename, direction, allow_pickle=True, fix_imports=True)\n",
        "  print(f'Latent direction saved as {filename}')\n",
        "\n",
        "def display_sample_pytorch(seed, truncation, direction, distance, scale, start, end, disp=True, save=None, noise_spec=None):\n",
        "    # blockPrint()\n",
        "    with io.capture_output() as captured:\n",
        "      w = model.sample_latent(1, seed=seed).cpu().numpy()\n",
        "\n",
        "      model.truncation = truncation\n",
        "      w = [w]*model.get_max_latents() # one per layer\n",
        "      for l in range(start, end):\n",
        "          w[l] = w[l] + direction * distance * scale\n",
        "\n",
        "      #save image and display\n",
        "      out = model.sample_np(w)\n",
        "      final_im = Image.fromarray((out * 255).astype(np.uint8)).resize((500,500),Image.LANCZOS)\n",
        "\n",
        "    if disp:\n",
        "      display(final_im)\n",
        "    if save is not None:\n",
        "      if disp == False:\n",
        "        print(save)\n",
        "      final_im.save(f'out/{seed}_{save:05}.png')\n",
        "\n",
        "def generate_mov(seed, truncation, direction_vec, scale, layers, n_frames, out_name = 'out', noise_spec = None, loop=True):\n",
        "  \"\"\"Generates a mov moving back and forth along the chosen direction vector\"\"\"\n",
        "  # Example of reading a generated set of images, and storing as MP4.\n",
        "  %mkdir out\n",
        "  movieName = f'out/{out_name}.mp4'\n",
        "  offset = -10\n",
        "  step = 20 / n_frames\n",
        "  imgs = []\n",
        "  for i in log_progress(range(n_frames), name = \"Generating frames\"):\n",
        "    print(f'\\r{i} / {n_frames}', end='')\n",
        "    w = model.sample_latent(1, seed=seed).cpu().numpy()\n",
        "\n",
        "    model.truncation = truncation\n",
        "    w = [w]*model.get_max_latents() # one per layer\n",
        "    for l in layers:\n",
        "      if l <= model.get_max_latents():\n",
        "          w[l] = w[l] + direction_vec * offset * scale\n",
        "\n",
        "    #save image and display\n",
        "    out = model.sample_np(w)\n",
        "    final_im = Image.fromarray((out * 255).astype(np.uint8))\n",
        "    imgs.append(out)\n",
        "    #increase offset\n",
        "    offset += step\n",
        "  if loop:\n",
        "    imgs += imgs[::-1]\n",
        "  with imageio.get_writer(movieName, mode='I') as writer:\n",
        "    for image in log_progress(list(imgs), name = \"Creating animation\"):\n",
        "        writer.append_data(img_as_ubyte(image))\n",
        "\n",
        "\n",
        "seed = np.random.randint(0,100000)\n",
        "style = {'description_width': 'initial'}\n",
        "\n",
        "seed = widgets.IntSlider(min=0, max=100000, step=1, value=seed, description='Seed: ', continuous_update=False)\n",
        "truncation = widgets.FloatSlider(min=0, max=2, step=0.1, value=0.7, description='Truncation: ', continuous_update=False)\n",
        "distance = widgets.FloatSlider(min=-10, max=10, step=0.1, value=0, description='Distance: ', continuous_update=False, style=style)\n",
        "scale = widgets.FloatSlider(min=0, max=10, step=0.05, value=1, description='Scale: ', continuous_update=False)\n",
        "start_layer = widgets.IntSlider(min=0, max=model.get_max_latents(), step=1, value=0, description='start layer: ', continuous_update=False)\n",
        "end_layer = widgets.IntSlider(min=0, max=model.get_max_latents(), step=1, value=18, description='end layer: ', continuous_update=False)\n",
        "\n",
        "# Make sure layer range is valid\n",
        "def update_range_start(*args):\n",
        "  end_layer.min = start_layer.value\n",
        "def update_range_end(*args):\n",
        "  start_layer.max = end_layer.value\n",
        "start_layer.observe(update_range_start, 'value')\n",
        "end_layer.observe(update_range_end, 'value')\n",
        "\n",
        "text = widgets.Text(description=\"Name component here\", style=style, width=200)\n",
        "\n",
        "bot_box = widgets.HBox([seed, truncation, distance, scale, start_layer, end_layer, text])\n",
        "ui = widgets.VBox([bot_box])\n",
        "\n",
        "out = widgets.interactive_output(display_sample_pytorch, {'seed': seed, 'truncation': truncation, 'direction': fixed(random_dir), 'distance': distance, 'scale': scale, 'start': start_layer, 'end': end_layer})\n",
        "\n",
        "display(ui, out)\n",
        "text.on_submit(name_direction)"
      ],
      "execution_count": null,
      "outputs": [
        {
          "output_type": "display_data",
          "data": {
            "application/vnd.jupyter.widget-view+json": {
              "model_id": "13e7570fb7d545b3bf0521e22456ac77",
              "version_minor": 0,
              "version_major": 2
            },
            "text/plain": [
              "VBox(children=(HBox(children=(IntSlider(value=39283, continuous_update=False, description='Seed: ', max=100000…"
            ]
          },
          "metadata": {
            "tags": []
          }
        },
        {
          "output_type": "display_data",
          "data": {
            "application/vnd.jupyter.widget-view+json": {
              "model_id": "f6df1c13e7184bc59939e1f826cb1493",
              "version_minor": 0,
              "version_major": 2
            },
            "text/plain": [
              "Output()"
            ]
          },
          "metadata": {
            "tags": []
          }
        }
      ]
    },
    {
      "cell_type": "code",
      "metadata": {
        "id": "pb9z9VvcSBjK",
        "outputId": "e106c21f-2cfb-4a31-f2cd-4d52a781f2b0",
        "colab": {
          "base_uri": "https://localhost:8080/",
          "height": 35
        }
      },
      "source": [
        "print(named_directions)"
      ],
      "execution_count": null,
      "outputs": [
        {
          "output_type": "stream",
          "text": [
            "{}\n"
          ],
          "name": "stdout"
        }
      ]
    },
    {
      "cell_type": "code",
      "metadata": {
        "id": "zJjbP91dgQui",
        "outputId": "50483c19-0afc-4aeb-fb36-8ee91ddbb867",
        "colab": {
          "base_uri": "https://localhost:8080/",
          "height": 246
        }
      },
      "source": [
        "#script to generate a movie moving back and forth along the direction\n",
        "direction_name = 'squint'\n",
        "num_samples = 10\n",
        "scale = 1 # scale the distance along the direction that the video shows\n",
        "num_frames = 25 \n",
        "\n",
        "loc = named_directions[direction_name][0]\n",
        "for i in range(num_samples):\n",
        "  s = np.random.randint(0, 10000)\n",
        "  generate_mov(seed = s, truncation = 0.8, direction_vec = latent_dirs[loc], scale = scale, layers=range(named_directions[direction_name][1], named_directions[direction_name][2]), n_frames = num_frames, out_name = f'{model_class}_{direction_name}_{i}', loop=True)"
      ],
      "execution_count": null,
      "outputs": [
        {
          "output_type": "error",
          "ename": "KeyError",
          "evalue": "ignored",
          "traceback": [
            "\u001b[0;31m---------------------------------------------------------------------------\u001b[0m",
            "\u001b[0;31mKeyError\u001b[0m                                  Traceback (most recent call last)",
            "\u001b[0;32m<ipython-input-28-8b229e697a39>\u001b[0m in \u001b[0;36m<module>\u001b[0;34m()\u001b[0m\n\u001b[1;32m      5\u001b[0m \u001b[0mnum_frames\u001b[0m \u001b[0;34m=\u001b[0m \u001b[0;36m25\u001b[0m\u001b[0;34m\u001b[0m\u001b[0;34m\u001b[0m\u001b[0m\n\u001b[1;32m      6\u001b[0m \u001b[0;34m\u001b[0m\u001b[0m\n\u001b[0;32m----> 7\u001b[0;31m \u001b[0mloc\u001b[0m \u001b[0;34m=\u001b[0m \u001b[0mnamed_directions\u001b[0m\u001b[0;34m[\u001b[0m\u001b[0mdirection_name\u001b[0m\u001b[0;34m]\u001b[0m\u001b[0;34m[\u001b[0m\u001b[0;36m0\u001b[0m\u001b[0;34m]\u001b[0m\u001b[0;34m\u001b[0m\u001b[0;34m\u001b[0m\u001b[0m\n\u001b[0m\u001b[1;32m      8\u001b[0m \u001b[0;32mfor\u001b[0m \u001b[0mi\u001b[0m \u001b[0;32min\u001b[0m \u001b[0mrange\u001b[0m\u001b[0;34m(\u001b[0m\u001b[0mnum_samples\u001b[0m\u001b[0;34m)\u001b[0m\u001b[0;34m:\u001b[0m\u001b[0;34m\u001b[0m\u001b[0;34m\u001b[0m\u001b[0m\n\u001b[1;32m      9\u001b[0m   \u001b[0ms\u001b[0m \u001b[0;34m=\u001b[0m \u001b[0mnp\u001b[0m\u001b[0;34m.\u001b[0m\u001b[0mrandom\u001b[0m\u001b[0;34m.\u001b[0m\u001b[0mrandint\u001b[0m\u001b[0;34m(\u001b[0m\u001b[0;36m0\u001b[0m\u001b[0;34m,\u001b[0m \u001b[0;36m10000\u001b[0m\u001b[0;34m)\u001b[0m\u001b[0;34m\u001b[0m\u001b[0;34m\u001b[0m\u001b[0m\n",
            "\u001b[0;31mKeyError\u001b[0m: 'squint'"
          ]
        }
      ]
    },
    {
      "cell_type": "code",
      "metadata": {
        "id": "dDbfx6e09dTX",
        "cellView": "form",
        "outputId": "0907474d-6f41-4a7c-e949-66d178d74f83",
        "colab": {
          "base_uri": "https://localhost:8080/",
          "height": 246
        }
      },
      "source": [
        "#@title Select from named directions\n",
        "\n",
        "from IPython.display import display, clear_output\n",
        "\n",
        "vardict = list(named_directions.keys())\n",
        "select_variable = widgets.Dropdown(\n",
        "    options=vardict,\n",
        "    value=vardict[0],\n",
        "    description='Select variable:',\n",
        "    disabled=False,\n",
        "    button_style=''\n",
        ")\n",
        "\n",
        "def set_direction(b):\n",
        "    clear_output()\n",
        "    random_dir = latent_dirs[named_directions[select_variable.value][0]]\n",
        "    start_layer = named_directions[select_variable.value][1]\n",
        "    end_layer = named_directions[select_variable.value][2]\n",
        "    print(start_layer, end_layer)\n",
        "    out = widgets.interactive_output(display_sample_pytorch, {'seed': seed, 'truncation': truncation, 'direction': fixed(random_dir), 'distance': distance, 'scale': scale, 'start': fixed(start_layer), 'end': fixed(end_layer)})\n",
        "    display(select_variable)\n",
        "    display(ui, out)\n",
        "\n",
        "random_dir = latent_dirs[named_directions[select_variable.value][0]]\n",
        "start_layer = named_directions[select_variable.value][1]\n",
        "end_layer = named_directions[select_variable.value][2]\n",
        "seed = np.random.randint(0,100000)\n",
        "style = {'description_width': 'initial'}\n",
        "\n",
        "seed = widgets.IntSlider(min=0, max=100000, step=1, value=seed, description='Seed: ', continuous_update=False)\n",
        "truncation = widgets.FloatSlider(min=0, max=2, step=0.1, value=0.7, description='Truncation: ', continuous_update=False)\n",
        "distance = widgets.FloatSlider(min=-10, max=10, step=0.1, value=0, description='Distance: ', continuous_update=False, style=style)\n",
        "scale = widgets.FloatSlider(min=0, max=10, step=0.05, value=1, description='Scale: ', continuous_update=False)\n",
        "\n",
        "bot_box = widgets.HBox([seed, truncation, distance, scale])\n",
        "ui = widgets.VBox([bot_box])\n",
        "out = widgets.interactive_output(display_sample_pytorch, {'seed': seed, 'truncation': truncation, 'direction': fixed(random_dir), 'distance': distance, 'scale': scale, 'start': fixed(start_layer), 'end': fixed(end_layer)})\n",
        "\n",
        "display(select_variable)\n",
        "display(ui, out)\n",
        "\n",
        "select_variable.observe(set_direction, names='value')\n",
        "\n"
      ],
      "execution_count": null,
      "outputs": [
        {
          "output_type": "error",
          "ename": "IndexError",
          "evalue": "ignored",
          "traceback": [
            "\u001b[0;31m---------------------------------------------------------------------------\u001b[0m",
            "\u001b[0;31mIndexError\u001b[0m                                Traceback (most recent call last)",
            "\u001b[0;32m<ipython-input-65-5b0167f3a4b3>\u001b[0m in \u001b[0;36m<module>\u001b[0;34m()\u001b[0m\n\u001b[1;32m      6\u001b[0m select_variable = widgets.Dropdown(\n\u001b[1;32m      7\u001b[0m     \u001b[0moptions\u001b[0m\u001b[0;34m=\u001b[0m\u001b[0mvardict\u001b[0m\u001b[0;34m,\u001b[0m\u001b[0;34m\u001b[0m\u001b[0;34m\u001b[0m\u001b[0m\n\u001b[0;32m----> 8\u001b[0;31m     \u001b[0mvalue\u001b[0m\u001b[0;34m=\u001b[0m\u001b[0mvardict\u001b[0m\u001b[0;34m[\u001b[0m\u001b[0;36m0\u001b[0m\u001b[0;34m]\u001b[0m\u001b[0;34m,\u001b[0m\u001b[0;34m\u001b[0m\u001b[0;34m\u001b[0m\u001b[0m\n\u001b[0m\u001b[1;32m      9\u001b[0m     \u001b[0mdescription\u001b[0m\u001b[0;34m=\u001b[0m\u001b[0;34m'Select variable:'\u001b[0m\u001b[0;34m,\u001b[0m\u001b[0;34m\u001b[0m\u001b[0;34m\u001b[0m\u001b[0m\n\u001b[1;32m     10\u001b[0m     \u001b[0mdisabled\u001b[0m\u001b[0;34m=\u001b[0m\u001b[0;32mFalse\u001b[0m\u001b[0;34m,\u001b[0m\u001b[0;34m\u001b[0m\u001b[0;34m\u001b[0m\u001b[0m\n",
            "\u001b[0;31mIndexError\u001b[0m: list index out of range"
          ]
        }
      ]
    }
  ]
}