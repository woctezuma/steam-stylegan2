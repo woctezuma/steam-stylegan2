{
  "nbformat": 4,
  "nbformat_minor": 0,
  "metadata": {
    "colab": {
      "name": "stylegan2_metrics.ipynb",
      "provenance": [],
      "collapsed_sections": [
        "LQbTjcY364bx",
        "RUoPwkoQglOV",
        "zEBhNWnigNcV"
      ]
    },
    "kernelspec": {
      "name": "python3",
      "display_name": "Python 3"
    },
    "accelerator": "GPU"
  },
  "cells": [
    {
      "cell_type": "markdown",
      "metadata": {
        "id": "z8Lvg-DQ4SmR"
      },
      "source": [
        "# StyleGAN2: evaluation metrics"
      ]
    },
    {
      "cell_type": "markdown",
      "metadata": {
        "id": "LQbTjcY364bx"
      },
      "source": [
        "## Import data"
      ]
    },
    {
      "cell_type": "code",
      "metadata": {
        "id": "L5a5HmOy4kuA",
        "outputId": "c04a3d19-7d6d-43dd-8896-8523bdbd3585",
        "colab": {
          "base_uri": "https://localhost:8080/"
        }
      },
      "source": [
        "%pip install google-colab-transfer"
      ],
      "execution_count": 2,
      "outputs": [
        {
          "output_type": "stream",
          "text": [
            "Requirement already satisfied: google-colab-transfer in /usr/local/lib/python3.6/dist-packages (0.1.6)\n"
          ],
          "name": "stdout"
        }
      ]
    },
    {
      "cell_type": "code",
      "metadata": {
        "id": "LmKgpS_V31UZ",
        "outputId": "a161b82c-6cf0-4508-94d0-1659a1d8399d",
        "colab": {
          "base_uri": "https://localhost:8080/"
        }
      },
      "source": [
        "import colab_transfer as ct\n",
        "\n",
        "ct.copy_folder(folder_name = 'datasets',\n",
        "               source=ct.get_path_to_home_of_google_drive(),\n",
        "               destination=ct.get_path_to_home_of_local_machine())"
      ],
      "execution_count": 3,
      "outputs": [
        {
          "output_type": "stream",
          "text": [
            "Folder /content/datasets already exists. Copy skipped.\n"
          ],
          "name": "stdout"
        }
      ]
    },
    {
      "cell_type": "markdown",
      "metadata": {
        "id": "RUoPwkoQglOV"
      },
      "source": [
        "## Import model snapshots"
      ]
    },
    {
      "cell_type": "markdown",
      "metadata": {
        "id": "RZs5GOKIh97E"
      },
      "source": [
        "Either import all of the model snapshots (and choose later):"
      ]
    },
    {
      "cell_type": "code",
      "metadata": {
        "id": "qzQcCx5ogkT9",
        "outputId": "ffc1eaaa-22cd-4487-b326-b79cbb586444",
        "colab": {
          "base_uri": "https://localhost:8080/"
        }
      },
      "source": [
        "import colab_transfer as ct\n",
        "\n",
        "ct.copy_folder(folder_name = 'checkpoints',\n",
        "               source=ct.get_path_to_home_of_google_drive(),\n",
        "               destination=ct.get_path_to_home_of_local_machine())"
      ],
      "execution_count": 4,
      "outputs": [
        {
          "output_type": "stream",
          "text": [
            "Copying /content/drive/My Drive/checkpoints to /content/checkpoints\n"
          ],
          "name": "stdout"
        }
      ]
    },
    {
      "cell_type": "markdown",
      "metadata": {
        "id": "rkzs_2uZh0wZ"
      },
      "source": [
        "Or import a specific model snapshot:"
      ]
    },
    {
      "cell_type": "code",
      "metadata": {
        "id": "UslXAlTTgi7j",
        "outputId": "1f76dd21-872c-488d-9bff-313e35ec7cfe",
        "colab": {
          "base_uri": "https://localhost:8080/"
        }
      },
      "source": [
        "import colab_transfer as ct\n",
        "\n",
        "ct.copy_file(file_name = 'network-snapshot-005000.pkl',\n",
        "             source=ct.get_path_to_home_of_google_drive() + 'checkpoints/',\n",
        "             destination=ct.get_path_to_home_of_local_machine() + 'checkpoints/')"
      ],
      "execution_count": 17,
      "outputs": [
        {
          "output_type": "stream",
          "text": [
            "File /content/checkpoints/network-snapshot-005000.pkl already exists. Copy skipped.\n"
          ],
          "name": "stdout"
        }
      ]
    },
    {
      "cell_type": "markdown",
      "metadata": {
        "id": "zEBhNWnigNcV"
      },
      "source": [
        "## Import StyleGAN2's code"
      ]
    },
    {
      "cell_type": "code",
      "metadata": {
        "id": "LQvI09ik3iGI",
        "outputId": "cb57e6b5-f9c4-482c-fd4b-b2cd670ad0a0",
        "colab": {
          "base_uri": "https://localhost:8080/"
        }
      },
      "source": [
        "%cd /content/\n",
        "!git clone https://github.com/NVlabs/stylegan2.git"
      ],
      "execution_count": 4,
      "outputs": [
        {
          "output_type": "stream",
          "text": [
            "/content\n",
            "fatal: destination path 'stylegan2' already exists and is not an empty directory.\n"
          ],
          "name": "stdout"
        }
      ]
    },
    {
      "cell_type": "markdown",
      "metadata": {
        "id": "oR3jLuUC66UC"
      },
      "source": [
        "## Run metrics\n",
        "\n",
        "Reference: https://github.com/NVlabs/stylegan2#evaluation-metrics"
      ]
    },
    {
      "cell_type": "code",
      "metadata": {
        "id": "-lguUhOP6-0z",
        "outputId": "0ba676ea-df6c-4862-a5e1-d66264a87380",
        "colab": {
          "base_uri": "https://localhost:8080/"
        }
      },
      "source": [
        "%tensorflow_version 1.x"
      ],
      "execution_count": 5,
      "outputs": [
        {
          "output_type": "stream",
          "text": [
            "TensorFlow 1.x selected.\n"
          ],
          "name": "stdout"
        }
      ]
    },
    {
      "cell_type": "code",
      "metadata": {
        "id": "oOdyQ11g8RPy",
        "outputId": "69d24b90-fd1a-442b-eff3-007204700db9",
        "colab": {
          "base_uri": "https://localhost:8080/"
        }
      },
      "source": [
        "possible_metrics = [\n",
        "                    'fid50k',      # Fréchet Inception Distance (18 min)\n",
        "                    'ppl2_wend',   # Perceptual Path Length without center crop (26 min)\n",
        "                    'is50k',       # Inception Score (12 min)\n",
        "                    \n",
        "                    # NB: Google Colab will crash with the following metric:\n",
        "                    # 'pr50k3',        # Precision and Recall (26 min)\n",
        "]\n",
        "\n",
        "print('#metrics = {}'.format(len(possible_metrics)))"
      ],
      "execution_count": 6,
      "outputs": [
        {
          "output_type": "stream",
          "text": [
            "#metrics = 3\n"
          ],
          "name": "stdout"
        }
      ]
    },
    {
      "cell_type": "code",
      "metadata": {
        "id": "pf8Ppf4BigYg",
        "outputId": "7c7b4975-df8d-4f26-e05c-8d2d9d5dfbc8",
        "colab": {
          "base_uri": "https://localhost:8080/"
        }
      },
      "source": [
        "import glob\n",
        "\n",
        "possible_snapshots = sorted(glob.glob('checkpoints/*.pkl'))\n",
        "\n",
        "print('#snapshots = {}'.format(len(possible_snapshots)))"
      ],
      "execution_count": 7,
      "outputs": [
        {
          "output_type": "stream",
          "text": [
            "#snapshots = 5\n"
          ],
          "name": "stdout"
        }
      ]
    },
    {
      "cell_type": "code",
      "metadata": {
        "id": "TEmwGkXGhZNr",
        "outputId": "0be372ba-e93f-48b1-d0ae-5d770585c56e",
        "colab": {
          "base_uri": "https://localhost:8080/"
        }
      },
      "source": [
        "# Either choose one metric at a time:\n",
        "metrics = possible_metrics[-1]\n",
        "# Or choose all the metrics (total runtime ~ 1 hour):\n",
        "# metrics = ','.join(possible_metrics)\n",
        "\n",
        "print('Metrics: {}'.format(metrics))"
      ],
      "execution_count": 8,
      "outputs": [
        {
          "output_type": "stream",
          "text": [
            "Metrics: is50k\n"
          ],
          "name": "stdout"
        }
      ]
    },
    {
      "cell_type": "code",
      "metadata": {
        "id": "kii33GE8gZlN",
        "outputId": "017f4fd0-dfed-42b0-be78-3d890cc4333c",
        "colab": {
          "base_uri": "https://localhost:8080/"
        }
      },
      "source": [
        "for i in range(len(possible_snapshots)):\n",
        "  pkl_file_name = possible_snapshots[i]\n",
        "  print('Model snapshot: {}'.format(pkl_file_name))\n",
        "  \n",
        "  !python stylegan2/run_metrics.py --metrics={metrics} \\\n",
        "   --data-dir=/content/datasets --dataset=steam \\\n",
        "   --mirror-augment=true \\\n",
        "   --network=/content/{pkl_file_name} \\\n",
        "   --result-dir='/content/drive/My Drive/stylegan2-metrics' \\\n"
      ],
      "execution_count": 9,
      "outputs": [
        {
          "output_type": "stream",
          "text": [
            "Model snapshot: checkpoints/network-snapshot-001014.pkl\n",
            "Local submit - run_dir: /content/drive/My Drive/stylegan2-metrics/00007-run-metrics\n",
            "dnnlib: Running run_metrics.run() on localhost...\n",
            "Evaluating metrics \"is50k\" for \"/content/checkpoints/network-snapshot-001014.pkl\"...\n",
            "Setting up TensorFlow plugin \"fused_bias_act.cu\": Preprocessing... Loading... Done.\n",
            "Setting up TensorFlow plugin \"upfirdn_2d.cu\": Preprocessing... Loading... Done.\n",
            "tcmalloc: large alloc 4294967296 bytes == 0x45da2000 @  0x7f0e85e3c001 0x7f0e828c8765 0x7f0e8292cbb0 0x7f0e8292ea4f 0x7f0e829c5048 0x50a4a5 0x50cc96 0x507be4 0x508ec2 0x594a01 0x549e8f 0x5515c1 0x59fd0e 0x50d256 0x507be4 0x588e5c 0x59fd0e 0x50d256 0x5095c8 0x50a2fd 0x50beb4 0x5095c8 0x50a2fd 0x50beb4 0x507be4 0x509900 0x50a2fd 0x50cc96 0x507be4 0x508ec2 0x594a01\n",
            "tcmalloc: large alloc 4294967296 bytes == 0x7f0c70000000 @  0x7f0e85e3a1e7 0x7f0e828c85e1 0x7f0e8292cc78 0x7f0e8292cf37 0x7f0e829c4f28 0x50a4a5 0x50cc96 0x507be4 0x509900 0x50a2fd 0x50cc96 0x507be4 0x509900 0x50a2fd 0x50cc96 0x507be4 0x509900 0x50a2fd 0x50cc96 0x5095c8 0x50a2fd 0x50beb4 0x507be4 0x509900 0x50a2fd 0x50beb4 0x507be4 0x509900 0x50a2fd 0x50cc96 0x507be4\n",
            "tcmalloc: large alloc 4294967296 bytes == 0x7f0c70000000 @  0x7f0e85e3a1e7 0x7f0e828c85e1 0x7f0e8292cc78 0x7f0e8292cf37 0x7f0e455e00c5 0x7f0e44f63902 0x7f0e44f63eb2 0x7f0e44f1cc3e 0x50a12f 0x50beb4 0x5095c8 0x50a2fd 0x50beb4 0x507be4 0x588c8b 0x59fd0e 0x50d256 0x507be4 0x509900 0x50a2fd 0x50beb4 0x507be4 0x509900 0x50a2fd 0x50beb4 0x5095c8 0x50a2fd 0x50beb4 0x507be4 0x508ec2 0x594a01\n",
            "network-snapshot-001014        time 28m 11s      is50k_mean 4.6708     is50k_std 0.0445\n",
            "dnnlib: Finished run_metrics.run() in 28m 12s.\n",
            "Model snapshot: checkpoints/network-snapshot-002003.pkl\n",
            "Local submit - run_dir: /content/drive/My Drive/stylegan2-metrics/00008-run-metrics\n",
            "dnnlib: Running run_metrics.run() on localhost...\n",
            "Evaluating metrics \"is50k\" for \"/content/checkpoints/network-snapshot-002003.pkl\"...\n",
            "Setting up TensorFlow plugin \"fused_bias_act.cu\": Preprocessing... Loading... Done.\n",
            "Setting up TensorFlow plugin \"upfirdn_2d.cu\": Preprocessing... Loading... Done.\n",
            "tcmalloc: large alloc 4294967296 bytes == 0x45548000 @  0x7f4e225e5001 0x7f4e1f071765 0x7f4e1f0d5bb0 0x7f4e1f0d7a4f 0x7f4e1f16e048 0x50a4a5 0x50cc96 0x507be4 0x508ec2 0x594a01 0x549e8f 0x5515c1 0x59fd0e 0x50d256 0x507be4 0x588e5c 0x59fd0e 0x50d256 0x5095c8 0x50a2fd 0x50beb4 0x5095c8 0x50a2fd 0x50beb4 0x507be4 0x509900 0x50a2fd 0x50cc96 0x507be4 0x508ec2 0x594a01\n",
            "tcmalloc: large alloc 4294967296 bytes == 0x7f4c0db00000 @  0x7f4e225e31e7 0x7f4e1f0715e1 0x7f4e1f0d5c78 0x7f4e1f0d5f37 0x7f4e1f16df28 0x50a4a5 0x50cc96 0x507be4 0x509900 0x50a2fd 0x50cc96 0x507be4 0x509900 0x50a2fd 0x50cc96 0x507be4 0x509900 0x50a2fd 0x50cc96 0x5095c8 0x50a2fd 0x50beb4 0x507be4 0x509900 0x50a2fd 0x50beb4 0x507be4 0x509900 0x50a2fd 0x50cc96 0x507be4\n",
            "tcmalloc: large alloc 4294967296 bytes == 0x7f4c0db00000 @  0x7f4e225e31e7 0x7f4e1f0715e1 0x7f4e1f0d5c78 0x7f4e1f0d5f37 0x7f4de1d890c5 0x7f4de170c902 0x7f4de170ceb2 0x7f4de16c5c3e 0x50a12f 0x50beb4 0x5095c8 0x50a2fd 0x50beb4 0x507be4 0x588c8b 0x59fd0e 0x50d256 0x507be4 0x509900 0x50a2fd 0x50beb4 0x507be4 0x509900 0x50a2fd 0x50beb4 0x5095c8 0x50a2fd 0x50beb4 0x507be4 0x508ec2 0x594a01\n",
            "network-snapshot-002003        time 27m 55s      is50k_mean 4.6278     is50k_std 0.0672\n",
            "dnnlib: Finished run_metrics.run() in 27m 56s.\n",
            "Model snapshot: checkpoints/network-snapshot-003001.pkl\n",
            "Local submit - run_dir: /content/drive/My Drive/stylegan2-metrics/00009-run-metrics\n",
            "dnnlib: Running run_metrics.run() on localhost...\n",
            "Evaluating metrics \"is50k\" for \"/content/checkpoints/network-snapshot-003001.pkl\"...\n",
            "Setting up TensorFlow plugin \"fused_bias_act.cu\": Preprocessing... Loading... Done.\n",
            "Setting up TensorFlow plugin \"upfirdn_2d.cu\": Preprocessing... Loading... Done.\n",
            "tcmalloc: large alloc 4294967296 bytes == 0x455ec000 @  0x7f007d673001 0x7f007a0ff765 0x7f007a163bb0 0x7f007a165a4f 0x7f007a1fc048 0x50a4a5 0x50cc96 0x507be4 0x508ec2 0x594a01 0x549e8f 0x5515c1 0x59fd0e 0x50d256 0x507be4 0x588e5c 0x59fd0e 0x50d256 0x5095c8 0x50a2fd 0x50beb4 0x5095c8 0x50a2fd 0x50beb4 0x507be4 0x509900 0x50a2fd 0x50cc96 0x507be4 0x508ec2 0x594a01\n",
            "tcmalloc: large alloc 4294967296 bytes == 0x7efe68000000 @  0x7f007d6711e7 0x7f007a0ff5e1 0x7f007a163c78 0x7f007a163f37 0x7f007a1fbf28 0x50a4a5 0x50cc96 0x507be4 0x509900 0x50a2fd 0x50cc96 0x507be4 0x509900 0x50a2fd 0x50cc96 0x507be4 0x509900 0x50a2fd 0x50cc96 0x5095c8 0x50a2fd 0x50beb4 0x507be4 0x509900 0x50a2fd 0x50beb4 0x507be4 0x509900 0x50a2fd 0x50cc96 0x507be4\n",
            "tcmalloc: large alloc 4294967296 bytes == 0x7efe68000000 @  0x7f007d6711e7 0x7f007a0ff5e1 0x7f007a163c78 0x7f007a163f37 0x7f003ce170c5 0x7f003c79a902 0x7f003c79aeb2 0x7f003c753c3e 0x50a12f 0x50beb4 0x5095c8 0x50a2fd 0x50beb4 0x507be4 0x588c8b 0x59fd0e 0x50d256 0x507be4 0x509900 0x50a2fd 0x50beb4 0x507be4 0x509900 0x50a2fd 0x50beb4 0x5095c8 0x50a2fd 0x50beb4 0x507be4 0x508ec2 0x594a01\n",
            "network-snapshot-003001        time 27m 59s      is50k_mean 4.8427     is50k_std 0.0655\n",
            "dnnlib: Finished run_metrics.run() in 27m 59s.\n",
            "Model snapshot: checkpoints/network-snapshot-004006.pkl\n",
            "Local submit - run_dir: /content/drive/My Drive/stylegan2-metrics/00010-run-metrics\n",
            "dnnlib: Running run_metrics.run() on localhost...\n",
            "Evaluating metrics \"is50k\" for \"/content/checkpoints/network-snapshot-004006.pkl\"...\n",
            "Setting up TensorFlow plugin \"fused_bias_act.cu\": Preprocessing... Loading... Done.\n",
            "Setting up TensorFlow plugin \"upfirdn_2d.cu\": Preprocessing... Loading... Done.\n",
            "tcmalloc: large alloc 4294967296 bytes == 0x45d1e000 @  0x7f10129bc001 0x7f100f448765 0x7f100f4acbb0 0x7f100f4aea4f 0x7f100f545048 0x50a4a5 0x50cc96 0x507be4 0x508ec2 0x594a01 0x549e8f 0x5515c1 0x59fd0e 0x50d256 0x507be4 0x588e5c 0x59fd0e 0x50d256 0x5095c8 0x50a2fd 0x50beb4 0x5095c8 0x50a2fd 0x50beb4 0x507be4 0x509900 0x50a2fd 0x50cc96 0x507be4 0x508ec2 0x594a01\n",
            "tcmalloc: large alloc 4294967296 bytes == 0x7f0dfbf00000 @  0x7f10129ba1e7 0x7f100f4485e1 0x7f100f4acc78 0x7f100f4acf37 0x7f100f544f28 0x50a4a5 0x50cc96 0x507be4 0x509900 0x50a2fd 0x50cc96 0x507be4 0x509900 0x50a2fd 0x50cc96 0x507be4 0x509900 0x50a2fd 0x50cc96 0x5095c8 0x50a2fd 0x50beb4 0x507be4 0x509900 0x50a2fd 0x50beb4 0x507be4 0x509900 0x50a2fd 0x50cc96 0x507be4\n",
            "tcmalloc: large alloc 4294967296 bytes == 0x7f0dfbf00000 @  0x7f10129ba1e7 0x7f100f4485e1 0x7f100f4acc78 0x7f100f4acf37 0x7f0fd21600c5 0x7f0fd1ae3902 0x7f0fd1ae3eb2 0x7f0fd1a9cc3e 0x50a12f 0x50beb4 0x5095c8 0x50a2fd 0x50beb4 0x507be4 0x588c8b 0x59fd0e 0x50d256 0x507be4 0x509900 0x50a2fd 0x50beb4 0x507be4 0x509900 0x50a2fd 0x50beb4 0x5095c8 0x50a2fd 0x50beb4 0x507be4 0x508ec2 0x594a01\n",
            "network-snapshot-004006        time 27m 55s      is50k_mean 4.9288     is50k_std 0.0817\n",
            "dnnlib: Finished run_metrics.run() in 27m 55s.\n",
            "Model snapshot: checkpoints/network-snapshot-005000.pkl\n",
            "Local submit - run_dir: /content/drive/My Drive/stylegan2-metrics/00011-run-metrics\n",
            "dnnlib: Running run_metrics.run() on localhost...\n",
            "Evaluating metrics \"is50k\" for \"/content/checkpoints/network-snapshot-005000.pkl\"...\n",
            "Setting up TensorFlow plugin \"fused_bias_act.cu\": Preprocessing... Loading... Done.\n",
            "Setting up TensorFlow plugin \"upfirdn_2d.cu\": Preprocessing... Loading... Done.\n",
            "tcmalloc: large alloc 4294967296 bytes == 0x46ade000 @  0x7f113546d001 0x7f1131ef9765 0x7f1131f5dbb0 0x7f1131f5fa4f 0x7f1131ff6048 0x50a4a5 0x50cc96 0x507be4 0x508ec2 0x594a01 0x549e8f 0x5515c1 0x59fd0e 0x50d256 0x507be4 0x588e5c 0x59fd0e 0x50d256 0x5095c8 0x50a2fd 0x50beb4 0x5095c8 0x50a2fd 0x50beb4 0x507be4 0x509900 0x50a2fd 0x50cc96 0x507be4 0x508ec2 0x594a01\n",
            "tcmalloc: large alloc 4294967296 bytes == 0x7f0f20000000 @  0x7f113546b1e7 0x7f1131ef95e1 0x7f1131f5dc78 0x7f1131f5df37 0x7f1131ff5f28 0x50a4a5 0x50cc96 0x507be4 0x509900 0x50a2fd 0x50cc96 0x507be4 0x509900 0x50a2fd 0x50cc96 0x507be4 0x509900 0x50a2fd 0x50cc96 0x5095c8 0x50a2fd 0x50beb4 0x507be4 0x509900 0x50a2fd 0x50beb4 0x507be4 0x509900 0x50a2fd 0x50cc96 0x507be4\n",
            "tcmalloc: large alloc 4294967296 bytes == 0x7f0f20000000 @  0x7f113546b1e7 0x7f1131ef95e1 0x7f1131f5dc78 0x7f1131f5df37 0x7f10f4c110c5 0x7f10f4594902 0x7f10f4594eb2 0x7f10f454dc3e 0x50a12f 0x50beb4 0x5095c8 0x50a2fd 0x50beb4 0x507be4 0x588c8b 0x59fd0e 0x50d256 0x507be4 0x509900 0x50a2fd 0x50beb4 0x507be4 0x509900 0x50a2fd 0x50beb4 0x5095c8 0x50a2fd 0x50beb4 0x507be4 0x508ec2 0x594a01\n",
            "network-snapshot-005000        time 27m 54s      is50k_mean 4.9122     is50k_std 0.0854\n",
            "dnnlib: Finished run_metrics.run() in 27m 54s.\n"
          ],
          "name": "stdout"
        }
      ]
    }
  ]
}